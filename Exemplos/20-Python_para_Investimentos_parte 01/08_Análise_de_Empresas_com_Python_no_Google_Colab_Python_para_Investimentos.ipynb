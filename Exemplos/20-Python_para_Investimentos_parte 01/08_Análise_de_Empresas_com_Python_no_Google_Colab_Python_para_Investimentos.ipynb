{
 "cells": [
  {
   "cell_type": "markdown",
   "metadata": {
    "colab_type": "text",
    "id": "view-in-github"
   },
   "source": [
    "<a href=\"https://colab.research.google.com/github/codigoquant/python_para_investimentos/blob/master/08_An%C3%A1lise_de_Empresas_com_Python_no_Google_Colab_Python_para_Investimentos.ipynb\" target=\"_parent\"><img src=\"https://colab.research.google.com/assets/colab-badge.svg\" alt=\"Open In Colab\"/></a>"
   ]
  },
  {
   "cell_type": "markdown",
   "metadata": {
    "id": "Ix6_7zq6PGan"
   },
   "source": [
    "#Ricos pelo Acaso"
   ]
  },
  {
   "cell_type": "markdown",
   "metadata": {
    "id": "rM-myTSyPKaK"
   },
   "source": [
    "Link para o vídeo: https://youtu.be/e_ZRDG4F4ZA"
   ]
  },
  {
   "cell_type": "markdown",
   "metadata": {
    "id": "2jz98EaGXWes"
   },
   "source": [
    "# Importando Bibliotecas"
   ]
  },
  {
   "cell_type": "code",
   "execution_count": 1,
   "metadata": {
    "id": "OiURQn3EQ0go"
   },
   "outputs": [],
   "source": [
    "import numpy as np\n",
    "import pandas as pd\n",
    "import string\n",
    "import warnings\n",
    "warnings.filterwarnings('ignore')\n",
    "\n",
    "import requests"
   ]
  },
  {
   "cell_type": "markdown",
   "metadata": {
    "id": "LFnn2N6yXh9b"
   },
   "source": [
    "# Obtendo e tratando os dados - Web scraping"
   ]
  },
  {
   "cell_type": "markdown",
   "metadata": {},
   "source": [
    "https://www.fundamentus.com.br/resultado.php"
   ]
  },
  {
   "cell_type": "code",
   "execution_count": 4,
   "metadata": {
    "id": "WM76SRll9vyA"
   },
   "outputs": [],
   "source": [
    "url = 'http://www.fundamentus.com.br/resultado.php'"
   ]
  },
  {
   "cell_type": "code",
   "execution_count": 6,
   "metadata": {
    "id": "K43D5nBw9hQA"
   },
   "outputs": [],
   "source": [
    "header = {\n",
    "  \"User-Agent\": \"Mozilla/5.0 (Windows NT 10.0; Win64; x64) AppleWebKit/537.36 (KHTML, like Gecko) Chrome/84.0.4147.89 Safari/537.36\"  \n",
    " }\n",
    "\n",
    "r = requests.get(url, headers=header)"
   ]
  },
  {
   "cell_type": "code",
   "execution_count": 8,
   "metadata": {
    "id": "skFbCPQ9XnR1"
   },
   "outputs": [],
   "source": [
    "# pegando a primeira tabela, ajustando decimais, virgula por ponto\n",
    "df = pd.read_html(r.text,  decimal=',', thousands='.')[0]"
   ]
  },
  {
   "cell_type": "code",
   "execution_count": 10,
   "metadata": {
    "colab": {
     "base_uri": "https://localhost:8080/",
     "height": 425
    },
    "id": "YjZSHe6mc5Ue",
    "outputId": "4defd7b0-5af5-41fd-cf7e-82b8054f4996"
   },
   "outputs": [
    {
     "data": {
      "text/html": [
       "<div>\n",
       "<style scoped>\n",
       "    .dataframe tbody tr th:only-of-type {\n",
       "        vertical-align: middle;\n",
       "    }\n",
       "\n",
       "    .dataframe tbody tr th {\n",
       "        vertical-align: top;\n",
       "    }\n",
       "\n",
       "    .dataframe thead th {\n",
       "        text-align: right;\n",
       "    }\n",
       "</style>\n",
       "<table border=\"1\" class=\"dataframe\">\n",
       "  <thead>\n",
       "    <tr style=\"text-align: right;\">\n",
       "      <th></th>\n",
       "      <th>Papel</th>\n",
       "      <th>Cotação</th>\n",
       "      <th>P/L</th>\n",
       "      <th>P/VP</th>\n",
       "      <th>PSR</th>\n",
       "      <th>Div.Yield</th>\n",
       "      <th>P/Ativo</th>\n",
       "      <th>P/Cap.Giro</th>\n",
       "      <th>P/EBIT</th>\n",
       "      <th>P/Ativ Circ.Liq</th>\n",
       "      <th>...</th>\n",
       "      <th>EV/EBITDA</th>\n",
       "      <th>Mrg Ebit</th>\n",
       "      <th>Mrg. Líq.</th>\n",
       "      <th>Liq. Corr.</th>\n",
       "      <th>ROIC</th>\n",
       "      <th>ROE</th>\n",
       "      <th>Liq.2meses</th>\n",
       "      <th>Patrim. Líq</th>\n",
       "      <th>Dív.Brut/ Patrim.</th>\n",
       "      <th>Cresc. Rec.5a</th>\n",
       "    </tr>\n",
       "  </thead>\n",
       "  <tbody>\n",
       "    <tr>\n",
       "      <th>0</th>\n",
       "      <td>CLAN3</td>\n",
       "      <td>0.00</td>\n",
       "      <td>0.00</td>\n",
       "      <td>0.00</td>\n",
       "      <td>0.000</td>\n",
       "      <td>0,00%</td>\n",
       "      <td>0.000</td>\n",
       "      <td>0.00</td>\n",
       "      <td>0.00</td>\n",
       "      <td>0.00</td>\n",
       "      <td>...</td>\n",
       "      <td>0.00</td>\n",
       "      <td>0,00%</td>\n",
       "      <td>0,00%</td>\n",
       "      <td>0.00</td>\n",
       "      <td>0,00%</td>\n",
       "      <td>-1,05%</td>\n",
       "      <td>0.0</td>\n",
       "      <td>1.012240e+09</td>\n",
       "      <td>0.00</td>\n",
       "      <td>-63,96%</td>\n",
       "    </tr>\n",
       "    <tr>\n",
       "      <th>1</th>\n",
       "      <td>IVTT3</td>\n",
       "      <td>0.00</td>\n",
       "      <td>0.00</td>\n",
       "      <td>0.00</td>\n",
       "      <td>0.000</td>\n",
       "      <td>0,00%</td>\n",
       "      <td>0.000</td>\n",
       "      <td>0.00</td>\n",
       "      <td>0.00</td>\n",
       "      <td>0.00</td>\n",
       "      <td>...</td>\n",
       "      <td>0.00</td>\n",
       "      <td>0,00%</td>\n",
       "      <td>0,00%</td>\n",
       "      <td>0.00</td>\n",
       "      <td>0,00%</td>\n",
       "      <td>-0,40%</td>\n",
       "      <td>0.0</td>\n",
       "      <td>1.083050e+09</td>\n",
       "      <td>0.00</td>\n",
       "      <td>20,67%</td>\n",
       "    </tr>\n",
       "    <tr>\n",
       "      <th>2</th>\n",
       "      <td>MNSA3</td>\n",
       "      <td>0.42</td>\n",
       "      <td>0.00</td>\n",
       "      <td>0.00</td>\n",
       "      <td>0.000</td>\n",
       "      <td>0,00%</td>\n",
       "      <td>0.000</td>\n",
       "      <td>0.00</td>\n",
       "      <td>0.00</td>\n",
       "      <td>0.00</td>\n",
       "      <td>...</td>\n",
       "      <td>0.00</td>\n",
       "      <td>-208,15%</td>\n",
       "      <td>-362,66%</td>\n",
       "      <td>3.63</td>\n",
       "      <td>-13,50%</td>\n",
       "      <td>145,70%</td>\n",
       "      <td>0.0</td>\n",
       "      <td>-9.105000e+06</td>\n",
       "      <td>-6.52</td>\n",
       "      <td>-41,11%</td>\n",
       "    </tr>\n",
       "    <tr>\n",
       "      <th>3</th>\n",
       "      <td>MNSA4</td>\n",
       "      <td>0.47</td>\n",
       "      <td>0.00</td>\n",
       "      <td>0.00</td>\n",
       "      <td>0.000</td>\n",
       "      <td>0,00%</td>\n",
       "      <td>0.000</td>\n",
       "      <td>0.00</td>\n",
       "      <td>0.00</td>\n",
       "      <td>0.00</td>\n",
       "      <td>...</td>\n",
       "      <td>0.00</td>\n",
       "      <td>-208,15%</td>\n",
       "      <td>-362,66%</td>\n",
       "      <td>3.63</td>\n",
       "      <td>-13,50%</td>\n",
       "      <td>145,70%</td>\n",
       "      <td>0.0</td>\n",
       "      <td>-9.105000e+06</td>\n",
       "      <td>-6.52</td>\n",
       "      <td>-41,11%</td>\n",
       "    </tr>\n",
       "    <tr>\n",
       "      <th>4</th>\n",
       "      <td>CFLU4</td>\n",
       "      <td>1000.00</td>\n",
       "      <td>0.00</td>\n",
       "      <td>0.00</td>\n",
       "      <td>0.000</td>\n",
       "      <td>0,00%</td>\n",
       "      <td>0.000</td>\n",
       "      <td>0.00</td>\n",
       "      <td>0.00</td>\n",
       "      <td>0.00</td>\n",
       "      <td>...</td>\n",
       "      <td>0.00</td>\n",
       "      <td>8,88%</td>\n",
       "      <td>10,72%</td>\n",
       "      <td>1.10</td>\n",
       "      <td>17,68%</td>\n",
       "      <td>32,15%</td>\n",
       "      <td>0.0</td>\n",
       "      <td>6.035100e+07</td>\n",
       "      <td>0.06</td>\n",
       "      <td>8,14%</td>\n",
       "    </tr>\n",
       "    <tr>\n",
       "      <th>...</th>\n",
       "      <td>...</td>\n",
       "      <td>...</td>\n",
       "      <td>...</td>\n",
       "      <td>...</td>\n",
       "      <td>...</td>\n",
       "      <td>...</td>\n",
       "      <td>...</td>\n",
       "      <td>...</td>\n",
       "      <td>...</td>\n",
       "      <td>...</td>\n",
       "      <td>...</td>\n",
       "      <td>...</td>\n",
       "      <td>...</td>\n",
       "      <td>...</td>\n",
       "      <td>...</td>\n",
       "      <td>...</td>\n",
       "      <td>...</td>\n",
       "      <td>...</td>\n",
       "      <td>...</td>\n",
       "      <td>...</td>\n",
       "      <td>...</td>\n",
       "    </tr>\n",
       "    <tr>\n",
       "      <th>987</th>\n",
       "      <td>UBBR4</td>\n",
       "      <td>7.49</td>\n",
       "      <td>610.27</td>\n",
       "      <td>1.99</td>\n",
       "      <td>0.000</td>\n",
       "      <td>0,00%</td>\n",
       "      <td>0.000</td>\n",
       "      <td>0.00</td>\n",
       "      <td>0.00</td>\n",
       "      <td>0.00</td>\n",
       "      <td>...</td>\n",
       "      <td>0.00</td>\n",
       "      <td>0,00%</td>\n",
       "      <td>0,00%</td>\n",
       "      <td>0.00</td>\n",
       "      <td>0,00%</td>\n",
       "      <td>0,33%</td>\n",
       "      <td>0.0</td>\n",
       "      <td>1.031720e+10</td>\n",
       "      <td>0.00</td>\n",
       "      <td>10,58%</td>\n",
       "    </tr>\n",
       "    <tr>\n",
       "      <th>988</th>\n",
       "      <td>SRNA3</td>\n",
       "      <td>11.43</td>\n",
       "      <td>1161.34</td>\n",
       "      <td>1.31</td>\n",
       "      <td>1.550</td>\n",
       "      <td>0,00%</td>\n",
       "      <td>0.344</td>\n",
       "      <td>15.05</td>\n",
       "      <td>6.05</td>\n",
       "      <td>-0.60</td>\n",
       "      <td>...</td>\n",
       "      <td>9.05</td>\n",
       "      <td>25,62%</td>\n",
       "      <td>0,14%</td>\n",
       "      <td>1.16</td>\n",
       "      <td>6,17%</td>\n",
       "      <td>0,11%</td>\n",
       "      <td>77336700.0</td>\n",
       "      <td>5.443630e+09</td>\n",
       "      <td>2.20</td>\n",
       "      <td>35,93%</td>\n",
       "    </tr>\n",
       "    <tr>\n",
       "      <th>989</th>\n",
       "      <td>UBBR11</td>\n",
       "      <td>14.75</td>\n",
       "      <td>1201.81</td>\n",
       "      <td>3.91</td>\n",
       "      <td>0.000</td>\n",
       "      <td>0,00%</td>\n",
       "      <td>0.000</td>\n",
       "      <td>0.00</td>\n",
       "      <td>0.00</td>\n",
       "      <td>0.00</td>\n",
       "      <td>...</td>\n",
       "      <td>0.00</td>\n",
       "      <td>0,00%</td>\n",
       "      <td>0,00%</td>\n",
       "      <td>0.00</td>\n",
       "      <td>0,00%</td>\n",
       "      <td>0,33%</td>\n",
       "      <td>0.0</td>\n",
       "      <td>1.031720e+10</td>\n",
       "      <td>0.00</td>\n",
       "      <td>10,58%</td>\n",
       "    </tr>\n",
       "    <tr>\n",
       "      <th>990</th>\n",
       "      <td>UBBR3</td>\n",
       "      <td>18.00</td>\n",
       "      <td>1466.61</td>\n",
       "      <td>4.77</td>\n",
       "      <td>0.000</td>\n",
       "      <td>0,00%</td>\n",
       "      <td>0.000</td>\n",
       "      <td>0.00</td>\n",
       "      <td>0.00</td>\n",
       "      <td>0.00</td>\n",
       "      <td>...</td>\n",
       "      <td>0.00</td>\n",
       "      <td>0,00%</td>\n",
       "      <td>0,00%</td>\n",
       "      <td>0.00</td>\n",
       "      <td>0,00%</td>\n",
       "      <td>0,33%</td>\n",
       "      <td>0.0</td>\n",
       "      <td>1.031720e+10</td>\n",
       "      <td>0.00</td>\n",
       "      <td>10,58%</td>\n",
       "    </tr>\n",
       "    <tr>\n",
       "      <th>991</th>\n",
       "      <td>AURE3</td>\n",
       "      <td>9.63</td>\n",
       "      <td>1739.19</td>\n",
       "      <td>0.76</td>\n",
       "      <td>1.052</td>\n",
       "      <td>0,59%</td>\n",
       "      <td>0.194</td>\n",
       "      <td>2.93</td>\n",
       "      <td>6.96</td>\n",
       "      <td>-0.38</td>\n",
       "      <td>...</td>\n",
       "      <td>12.96</td>\n",
       "      <td>15,12%</td>\n",
       "      <td>0,75%</td>\n",
       "      <td>1.45</td>\n",
       "      <td>3,23%</td>\n",
       "      <td>0,04%</td>\n",
       "      <td>45155000.0</td>\n",
       "      <td>1.325150e+10</td>\n",
       "      <td>1.97</td>\n",
       "      <td>39,77%</td>\n",
       "    </tr>\n",
       "  </tbody>\n",
       "</table>\n",
       "<p>992 rows × 21 columns</p>\n",
       "</div>"
      ],
      "text/plain": [
       "      Papel  Cotação      P/L  P/VP    PSR Div.Yield  P/Ativo  P/Cap.Giro  \\\n",
       "0     CLAN3     0.00     0.00  0.00  0.000     0,00%    0.000        0.00   \n",
       "1     IVTT3     0.00     0.00  0.00  0.000     0,00%    0.000        0.00   \n",
       "2     MNSA3     0.42     0.00  0.00  0.000     0,00%    0.000        0.00   \n",
       "3     MNSA4     0.47     0.00  0.00  0.000     0,00%    0.000        0.00   \n",
       "4     CFLU4  1000.00     0.00  0.00  0.000     0,00%    0.000        0.00   \n",
       "..      ...      ...      ...   ...    ...       ...      ...         ...   \n",
       "987   UBBR4     7.49   610.27  1.99  0.000     0,00%    0.000        0.00   \n",
       "988   SRNA3    11.43  1161.34  1.31  1.550     0,00%    0.344       15.05   \n",
       "989  UBBR11    14.75  1201.81  3.91  0.000     0,00%    0.000        0.00   \n",
       "990   UBBR3    18.00  1466.61  4.77  0.000     0,00%    0.000        0.00   \n",
       "991   AURE3     9.63  1739.19  0.76  1.052     0,59%    0.194        2.93   \n",
       "\n",
       "     P/EBIT  P/Ativ Circ.Liq  ...  EV/EBITDA  Mrg Ebit Mrg. Líq. Liq. Corr.  \\\n",
       "0      0.00             0.00  ...       0.00     0,00%     0,00%       0.00   \n",
       "1      0.00             0.00  ...       0.00     0,00%     0,00%       0.00   \n",
       "2      0.00             0.00  ...       0.00  -208,15%  -362,66%       3.63   \n",
       "3      0.00             0.00  ...       0.00  -208,15%  -362,66%       3.63   \n",
       "4      0.00             0.00  ...       0.00     8,88%    10,72%       1.10   \n",
       "..      ...              ...  ...        ...       ...       ...        ...   \n",
       "987    0.00             0.00  ...       0.00     0,00%     0,00%       0.00   \n",
       "988    6.05            -0.60  ...       9.05    25,62%     0,14%       1.16   \n",
       "989    0.00             0.00  ...       0.00     0,00%     0,00%       0.00   \n",
       "990    0.00             0.00  ...       0.00     0,00%     0,00%       0.00   \n",
       "991    6.96            -0.38  ...      12.96    15,12%     0,75%       1.45   \n",
       "\n",
       "        ROIC      ROE  Liq.2meses   Patrim. Líq  Dív.Brut/ Patrim.  \\\n",
       "0      0,00%   -1,05%         0.0  1.012240e+09               0.00   \n",
       "1      0,00%   -0,40%         0.0  1.083050e+09               0.00   \n",
       "2    -13,50%  145,70%         0.0 -9.105000e+06              -6.52   \n",
       "3    -13,50%  145,70%         0.0 -9.105000e+06              -6.52   \n",
       "4     17,68%   32,15%         0.0  6.035100e+07               0.06   \n",
       "..       ...      ...         ...           ...                ...   \n",
       "987    0,00%    0,33%         0.0  1.031720e+10               0.00   \n",
       "988    6,17%    0,11%  77336700.0  5.443630e+09               2.20   \n",
       "989    0,00%    0,33%         0.0  1.031720e+10               0.00   \n",
       "990    0,00%    0,33%         0.0  1.031720e+10               0.00   \n",
       "991    3,23%    0,04%  45155000.0  1.325150e+10               1.97   \n",
       "\n",
       "     Cresc. Rec.5a  \n",
       "0          -63,96%  \n",
       "1           20,67%  \n",
       "2          -41,11%  \n",
       "3          -41,11%  \n",
       "4            8,14%  \n",
       "..             ...  \n",
       "987         10,58%  \n",
       "988         35,93%  \n",
       "989         10,58%  \n",
       "990         10,58%  \n",
       "991         39,77%  \n",
       "\n",
       "[992 rows x 21 columns]"
      ]
     },
     "execution_count": 10,
     "metadata": {},
     "output_type": "execute_result"
    }
   ],
   "source": [
    "df"
   ]
  },
  {
   "cell_type": "code",
   "execution_count": 12,
   "metadata": {
    "id": "fiZbA283diRP"
   },
   "outputs": [],
   "source": [
    "# substituindo virgula por ponto\n",
    "for coluna in ['Div.Yield', 'Mrg Ebit', 'Mrg. Líq.', 'ROIC', 'ROE', 'Cresc. Rec.5a']:\n",
    "  df[coluna] = df[coluna].str.replace('.', '')\n",
    "  df[coluna] = df[coluna].str.replace(',', '.')\n",
    "  df[coluna] = df[coluna].str.rstrip('%').astype('float') / 100"
   ]
  },
  {
   "cell_type": "markdown",
   "metadata": {
    "id": "L-8C2O4zXoBP"
   },
   "source": [
    "# Analisando os dados - Fórmula Mágica"
   ]
  },
  {
   "cell_type": "code",
   "execution_count": 15,
   "metadata": {
    "id": "-xXaDjo4XtNs"
   },
   "outputs": [],
   "source": [
    "# filtrando empresas com liquidez de negociação diária, dos últimos dois meses\n",
    "df = df[df['Liq.2meses'] > 1000000]"
   ]
  },
  {
   "cell_type": "code",
   "execution_count": 17,
   "metadata": {
    "id": "GFrBbUwde62S"
   },
   "outputs": [],
   "source": [
    "# melhores empresas, segundo a fórmula mágica.\n",
    "# https://quantbrasil.com.br/magic-formula/\n",
    "ranking = pd.DataFrame()\n",
    "ranking['pos'] = range(1,151)\n",
    "# valor da firma / geracao de xaixa operacional. Ver empresa que vale pouco em relacao à geração de caixa\n",
    "ranking['EV/EBIT'] = df[ df['EV/EBIT'] > 0 ].sort_values(by=['EV/EBIT'])['Papel'][:150].values\n",
    "# retorno sobre o capital investido\n",
    "ranking['ROIC'] = df.sort_values(by=['ROIC'], ascending=False)['Papel'][:150].values"
   ]
  },
  {
   "cell_type": "code",
   "execution_count": 19,
   "metadata": {
    "colab": {
     "base_uri": "https://localhost:8080/",
     "height": 407
    },
    "id": "hLRMM7YDgjXE",
    "outputId": "e8cdc1c5-9812-4842-b0ed-0c5ac55802c3"
   },
   "outputs": [
    {
     "data": {
      "text/html": [
       "<div>\n",
       "<style scoped>\n",
       "    .dataframe tbody tr th:only-of-type {\n",
       "        vertical-align: middle;\n",
       "    }\n",
       "\n",
       "    .dataframe tbody tr th {\n",
       "        vertical-align: top;\n",
       "    }\n",
       "\n",
       "    .dataframe thead th {\n",
       "        text-align: right;\n",
       "    }\n",
       "</style>\n",
       "<table border=\"1\" class=\"dataframe\">\n",
       "  <thead>\n",
       "    <tr style=\"text-align: right;\">\n",
       "      <th></th>\n",
       "      <th>pos</th>\n",
       "      <th>EV/EBIT</th>\n",
       "      <th>ROIC</th>\n",
       "    </tr>\n",
       "  </thead>\n",
       "  <tbody>\n",
       "    <tr>\n",
       "      <th>0</th>\n",
       "      <td>1</td>\n",
       "      <td>PSSA3</td>\n",
       "      <td>PSSA3</td>\n",
       "    </tr>\n",
       "    <tr>\n",
       "      <th>1</th>\n",
       "      <td>2</td>\n",
       "      <td>WIZC3</td>\n",
       "      <td>PLPL3</td>\n",
       "    </tr>\n",
       "    <tr>\n",
       "      <th>2</th>\n",
       "      <td>3</td>\n",
       "      <td>GOAU4</td>\n",
       "      <td>ODPV3</td>\n",
       "    </tr>\n",
       "    <tr>\n",
       "      <th>3</th>\n",
       "      <td>4</td>\n",
       "      <td>PCAR3</td>\n",
       "      <td>TGMA3</td>\n",
       "    </tr>\n",
       "    <tr>\n",
       "      <th>4</th>\n",
       "      <td>5</td>\n",
       "      <td>QUAL3</td>\n",
       "      <td>LEVE3</td>\n",
       "    </tr>\n",
       "    <tr>\n",
       "      <th>...</th>\n",
       "      <td>...</td>\n",
       "      <td>...</td>\n",
       "      <td>...</td>\n",
       "    </tr>\n",
       "    <tr>\n",
       "      <th>145</th>\n",
       "      <td>146</td>\n",
       "      <td>VIVT3</td>\n",
       "      <td>AZZA3</td>\n",
       "    </tr>\n",
       "    <tr>\n",
       "      <th>146</th>\n",
       "      <td>147</td>\n",
       "      <td>SMFT3</td>\n",
       "      <td>ALOS3</td>\n",
       "    </tr>\n",
       "    <tr>\n",
       "      <th>147</th>\n",
       "      <td>148</td>\n",
       "      <td>TFCO4</td>\n",
       "      <td>ELET3</td>\n",
       "    </tr>\n",
       "    <tr>\n",
       "      <th>148</th>\n",
       "      <td>149</td>\n",
       "      <td>TOTS3</td>\n",
       "      <td>ELET6</td>\n",
       "    </tr>\n",
       "    <tr>\n",
       "      <th>149</th>\n",
       "      <td>150</td>\n",
       "      <td>SMTO3</td>\n",
       "      <td>PETZ3</td>\n",
       "    </tr>\n",
       "  </tbody>\n",
       "</table>\n",
       "<p>150 rows × 3 columns</p>\n",
       "</div>"
      ],
      "text/plain": [
       "     pos EV/EBIT   ROIC\n",
       "0      1   PSSA3  PSSA3\n",
       "1      2   WIZC3  PLPL3\n",
       "2      3   GOAU4  ODPV3\n",
       "3      4   PCAR3  TGMA3\n",
       "4      5   QUAL3  LEVE3\n",
       "..   ...     ...    ...\n",
       "145  146   VIVT3  AZZA3\n",
       "146  147   SMFT3  ALOS3\n",
       "147  148   TFCO4  ELET3\n",
       "148  149   TOTS3  ELET6\n",
       "149  150   SMTO3  PETZ3\n",
       "\n",
       "[150 rows x 3 columns]"
      ]
     },
     "execution_count": 19,
     "metadata": {},
     "output_type": "execute_result"
    }
   ],
   "source": [
    "# somar os indices, os menores valores são as melhores\n",
    "ranking"
   ]
  },
  {
   "cell_type": "code",
   "execution_count": 21,
   "metadata": {
    "id": "C1zue-skgsUR"
   },
   "outputs": [],
   "source": [
    "a = ranking.pivot_table(columns='EV/EBIT', values='pos')"
   ]
  },
  {
   "cell_type": "code",
   "execution_count": 23,
   "metadata": {
    "id": "2TLSMa6phAX6"
   },
   "outputs": [],
   "source": [
    "b = ranking.pivot_table(columns='ROIC', values='pos')"
   ]
  },
  {
   "cell_type": "code",
   "execution_count": 25,
   "metadata": {
    "colab": {
     "base_uri": "https://localhost:8080/",
     "height": 157
    },
    "id": "YZgDcRKohDvB",
    "outputId": "e0aef241-4a6f-4859-8d05-59ccd9333025"
   },
   "outputs": [
    {
     "data": {
      "text/html": [
       "<div>\n",
       "<style scoped>\n",
       "    .dataframe tbody tr th:only-of-type {\n",
       "        vertical-align: middle;\n",
       "    }\n",
       "\n",
       "    .dataframe tbody tr th {\n",
       "        vertical-align: top;\n",
       "    }\n",
       "\n",
       "    .dataframe thead th {\n",
       "        text-align: right;\n",
       "    }\n",
       "</style>\n",
       "<table border=\"1\" class=\"dataframe\">\n",
       "  <thead>\n",
       "    <tr style=\"text-align: right;\">\n",
       "      <th></th>\n",
       "      <th>ABEV3</th>\n",
       "      <th>AGRO3</th>\n",
       "      <th>ALOS3</th>\n",
       "      <th>ALUP11</th>\n",
       "      <th>AMOB3</th>\n",
       "      <th>ANIM3</th>\n",
       "      <th>ARML3</th>\n",
       "      <th>ASAI3</th>\n",
       "      <th>AURA33</th>\n",
       "      <th>AZUL4</th>\n",
       "      <th>...</th>\n",
       "      <th>ELMD3</th>\n",
       "      <th>EMBR3</th>\n",
       "      <th>ENEV3</th>\n",
       "      <th>FRAS3</th>\n",
       "      <th>ONCO3</th>\n",
       "      <th>ORVR3</th>\n",
       "      <th>PNVL3</th>\n",
       "      <th>RENT3</th>\n",
       "      <th>SRNA3</th>\n",
       "      <th>WEGE3</th>\n",
       "    </tr>\n",
       "  </thead>\n",
       "  <tbody>\n",
       "    <tr>\n",
       "      <th>pos</th>\n",
       "      <td>117.0</td>\n",
       "      <td>90.0</td>\n",
       "      <td>54.0</td>\n",
       "      <td>57.0</td>\n",
       "      <td>126.0</td>\n",
       "      <td>20.0</td>\n",
       "      <td>59.0</td>\n",
       "      <td>13.0</td>\n",
       "      <td>70.0</td>\n",
       "      <td>73.0</td>\n",
       "      <td>...</td>\n",
       "      <td>NaN</td>\n",
       "      <td>NaN</td>\n",
       "      <td>NaN</td>\n",
       "      <td>NaN</td>\n",
       "      <td>NaN</td>\n",
       "      <td>NaN</td>\n",
       "      <td>NaN</td>\n",
       "      <td>NaN</td>\n",
       "      <td>NaN</td>\n",
       "      <td>NaN</td>\n",
       "    </tr>\n",
       "    <tr>\n",
       "      <th>pos</th>\n",
       "      <td>26.0</td>\n",
       "      <td>77.0</td>\n",
       "      <td>147.0</td>\n",
       "      <td>85.0</td>\n",
       "      <td>NaN</td>\n",
       "      <td>58.0</td>\n",
       "      <td>49.0</td>\n",
       "      <td>27.0</td>\n",
       "      <td>10.0</td>\n",
       "      <td>16.0</td>\n",
       "      <td>...</td>\n",
       "      <td>48.0</td>\n",
       "      <td>131.0</td>\n",
       "      <td>140.0</td>\n",
       "      <td>68.0</td>\n",
       "      <td>136.0</td>\n",
       "      <td>115.0</td>\n",
       "      <td>137.0</td>\n",
       "      <td>111.0</td>\n",
       "      <td>142.0</td>\n",
       "      <td>9.0</td>\n",
       "    </tr>\n",
       "  </tbody>\n",
       "</table>\n",
       "<p>2 rows × 164 columns</p>\n",
       "</div>"
      ],
      "text/plain": [
       "     ABEV3  AGRO3  ALOS3  ALUP11  AMOB3  ANIM3  ARML3  ASAI3  AURA33  AZUL4  \\\n",
       "pos  117.0   90.0   54.0    57.0  126.0   20.0   59.0   13.0    70.0   73.0   \n",
       "pos   26.0   77.0  147.0    85.0    NaN   58.0   49.0   27.0    10.0   16.0   \n",
       "\n",
       "     ...  ELMD3  EMBR3  ENEV3  FRAS3  ONCO3  ORVR3  PNVL3  RENT3  SRNA3  WEGE3  \n",
       "pos  ...    NaN    NaN    NaN    NaN    NaN    NaN    NaN    NaN    NaN    NaN  \n",
       "pos  ...   48.0  131.0  140.0   68.0  136.0  115.0  137.0  111.0  142.0    9.0  \n",
       "\n",
       "[2 rows x 164 columns]"
      ]
     },
     "execution_count": 25,
     "metadata": {},
     "output_type": "execute_result"
    }
   ],
   "source": [
    "t = pd.concat([a,b])\n",
    "t"
   ]
  },
  {
   "cell_type": "code",
   "execution_count": 27,
   "metadata": {
    "colab": {
     "base_uri": "https://localhost:8080/"
    },
    "id": "akOZIhfVhIXJ",
    "outputId": "036e4993-e75f-4d05-a2b4-780800875734"
   },
   "outputs": [
    {
     "data": {
      "text/plain": [
       "ABEV3     143.0\n",
       "AGRO3     167.0\n",
       "ALOS3     201.0\n",
       "ALUP11    142.0\n",
       "ANIM3      78.0\n",
       "          ...  \n",
       "VLID3      62.0\n",
       "VTRU3      57.0\n",
       "VULC3     130.0\n",
       "WIZC3       8.0\n",
       "YDUQ3     200.0\n",
       "Length: 136, dtype: float64"
      ]
     },
     "execution_count": 27,
     "metadata": {},
     "output_type": "execute_result"
    }
   ],
   "source": [
    "# filtrando as que não estão nos dois rankings\n",
    "rank = t.dropna(axis=1).sum()\n",
    "rank"
   ]
  },
  {
   "cell_type": "code",
   "execution_count": 29,
   "metadata": {
    "colab": {
     "base_uri": "https://localhost:8080/"
    },
    "id": "jVmQtM8chVyQ",
    "outputId": "62f3805f-dbf7-46ac-9e70-74a137a47171"
   },
   "outputs": [
    {
     "data": {
      "text/plain": [
       "PSSA3     2.0\n",
       "WIZC3     8.0\n",
       "PLPL3    11.0\n",
       "CMIN3    30.0\n",
       "PETR4    31.0\n",
       "PETR3    33.0\n",
       "QUAL3    34.0\n",
       "SYNE3    37.0\n",
       "ASAI3    40.0\n",
       "LEVE3    43.0\n",
       "KEPL3    44.0\n",
       "LREN3    47.0\n",
       "VALE3    47.0\n",
       "TGMA3    49.0\n",
       "RECV3    49.0\n",
       "dtype: float64"
      ]
     },
     "execution_count": 29,
     "metadata": {},
     "output_type": "execute_result"
    }
   ],
   "source": [
    "# exclua seguradoras. Comparar com o site:\n",
    "# https://quantbrasil.com.br/magic-formula/\n",
    "rank.sort_values()[:15]"
   ]
  },
  {
   "cell_type": "markdown",
   "metadata": {
    "id": "wQU3hp4shcsI"
   },
   "source": [
    "https://insight.economatica.com/existe-formula-magica-para-vencer-o-mercado"
   ]
  },
  {
   "cell_type": "markdown",
   "metadata": {},
   "source": [
    "https://quantbrasil.com.br/magic-formula/"
   ]
  },
  {
   "cell_type": "code",
   "execution_count": null,
   "metadata": {},
   "outputs": [],
   "source": []
  },
  {
   "cell_type": "code",
   "execution_count": null,
   "metadata": {},
   "outputs": [],
   "source": []
  },
  {
   "cell_type": "code",
   "execution_count": null,
   "metadata": {},
   "outputs": [],
   "source": []
  }
 ],
 "metadata": {
  "colab": {
   "collapsed_sections": [],
   "include_colab_link": true,
   "name": "08 - Análise de Empresas com Python no Google Colab - Python para Investimentos.ipynb",
   "provenance": []
  },
  "kernelspec": {
   "display_name": "Python 3 (ipykernel)",
   "language": "python",
   "name": "python3"
  },
  "language_info": {
   "codemirror_mode": {
    "name": "ipython",
    "version": 3
   },
   "file_extension": ".py",
   "mimetype": "text/x-python",
   "name": "python",
   "nbconvert_exporter": "python",
   "pygments_lexer": "ipython3",
   "version": "3.11.7"
  }
 },
 "nbformat": 4,
 "nbformat_minor": 4
}
