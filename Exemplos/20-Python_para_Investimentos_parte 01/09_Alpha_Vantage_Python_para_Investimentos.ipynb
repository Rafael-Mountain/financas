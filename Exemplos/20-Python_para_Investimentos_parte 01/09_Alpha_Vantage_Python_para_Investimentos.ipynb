{
 "cells": [
  {
   "cell_type": "markdown",
   "metadata": {
    "colab_type": "text",
    "id": "view-in-github"
   },
   "source": [
    "<a href=\"https://colab.research.google.com/github/ricospeloacaso/python_para_investimentos/blob/master/09_Alpha_Vantage_Python_para_Investimentos.ipynb\" target=\"_parent\"><img src=\"https://colab.research.google.com/assets/colab-badge.svg\" alt=\"Open In Colab\"/></a>"
   ]
  },
  {
   "cell_type": "markdown",
   "metadata": {
    "colab_type": "text",
    "id": "Vjr4Ro8xQll7"
   },
   "source": [
    "# Ricos pelo Acaso\n",
    "\n",
    "*Link* para o vídeo: https://youtu.be/kB4jCoVyLRI"
   ]
  },
  {
   "cell_type": "markdown",
   "metadata": {
    "colab_type": "text",
    "id": "XXN3-mNhxNOP"
   },
   "source": [
    "# Bibliotecas"
   ]
  },
  {
   "cell_type": "code",
   "execution_count": 24,
   "metadata": {
    "colab": {},
    "colab_type": "code",
    "id": "OHHEzZzwRRhx"
   },
   "outputs": [],
   "source": [
    "import numpy as np\n",
    "import pandas as pd\n",
    "import matplotlib.pyplot as plt\n",
    "import seaborn as sns; sns.set()\n",
    "\n",
    "import matplotlib\n",
    "matplotlib.rcParams['figure.figsize'] = (16, 8)"
   ]
  },
  {
   "cell_type": "code",
   "execution_count": 26,
   "metadata": {
    "colab": {},
    "colab_type": "code",
    "id": "F336SM7MPniI"
   },
   "outputs": [
    {
     "name": "stdout",
     "output_type": "stream",
     "text": [
      "Collecting alpha_vantage\n",
      "  Downloading alpha_vantage-3.0.0-py3-none-any.whl.metadata (12 kB)\n",
      "Requirement already satisfied: aiohttp in c:\\users\\carlo\\anaconda3\\lib\\site-packages (from alpha_vantage) (3.9.3)\n",
      "Requirement already satisfied: requests in c:\\users\\carlo\\anaconda3\\lib\\site-packages (from alpha_vantage) (2.32.3)\n",
      "Requirement already satisfied: aiosignal>=1.1.2 in c:\\users\\carlo\\anaconda3\\lib\\site-packages (from aiohttp->alpha_vantage) (1.2.0)\n",
      "Requirement already satisfied: attrs>=17.3.0 in c:\\users\\carlo\\anaconda3\\lib\\site-packages (from aiohttp->alpha_vantage) (23.1.0)\n",
      "Requirement already satisfied: frozenlist>=1.1.1 in c:\\users\\carlo\\anaconda3\\lib\\site-packages (from aiohttp->alpha_vantage) (1.4.0)\n",
      "Requirement already satisfied: multidict<7.0,>=4.5 in c:\\users\\carlo\\anaconda3\\lib\\site-packages (from aiohttp->alpha_vantage) (6.0.4)\n",
      "Requirement already satisfied: yarl<2.0,>=1.0 in c:\\users\\carlo\\anaconda3\\lib\\site-packages (from aiohttp->alpha_vantage) (1.9.3)\n",
      "Requirement already satisfied: charset-normalizer<4,>=2 in c:\\users\\carlo\\anaconda3\\lib\\site-packages (from requests->alpha_vantage) (2.0.4)\n",
      "Requirement already satisfied: idna<4,>=2.5 in c:\\users\\carlo\\anaconda3\\lib\\site-packages (from requests->alpha_vantage) (3.4)\n",
      "Requirement already satisfied: urllib3<3,>=1.21.1 in c:\\users\\carlo\\anaconda3\\lib\\site-packages (from requests->alpha_vantage) (2.0.3)\n",
      "Requirement already satisfied: certifi>=2017.4.17 in c:\\users\\carlo\\anaconda3\\lib\\site-packages (from requests->alpha_vantage) (2025.4.26)\n",
      "Downloading alpha_vantage-3.0.0-py3-none-any.whl (35 kB)\n",
      "Installing collected packages: alpha_vantage\n",
      "Successfully installed alpha_vantage-3.0.0\n"
     ]
    }
   ],
   "source": [
    "!pip install alpha_vantage"
   ]
  },
  {
   "cell_type": "code",
   "execution_count": 28,
   "metadata": {
    "colab": {},
    "colab_type": "code",
    "id": "B4w76OYeQLCP"
   },
   "outputs": [],
   "source": [
    "from alpha_vantage.timeseries import TimeSeries"
   ]
  },
  {
   "cell_type": "markdown",
   "metadata": {
    "colab_type": "text",
    "id": "uTu7q3p8QOrH"
   },
   "source": [
    "# Chave de Acesso a API da Alpha Vantage"
   ]
  },
  {
   "cell_type": "markdown",
   "metadata": {},
   "source": [
    "https://www.alphavantage.co/"
   ]
  },
  {
   "cell_type": "code",
   "execution_count": 31,
   "metadata": {
    "colab": {},
    "colab_type": "code",
    "id": "CidOSQf2QQ7_"
   },
   "outputs": [],
   "source": [
    "\n",
    "ALPHAVANTAGE_API_KEY ='DCVKQOWZCMTBBES6'"
   ]
  },
  {
   "cell_type": "markdown",
   "metadata": {
    "colab_type": "text",
    "id": "jauhh7l1QwMx"
   },
   "source": [
    "# Acessando a API"
   ]
  },
  {
   "cell_type": "code",
   "execution_count": 34,
   "metadata": {
    "colab": {},
    "colab_type": "code",
    "id": "aG8KOldPT7Jc"
   },
   "outputs": [],
   "source": [
    "ts = TimeSeries(key=ALPHAVANTAGE_API_KEY, output_format='pandas')"
   ]
  },
  {
   "cell_type": "code",
   "execution_count": 36,
   "metadata": {
    "colab": {
     "base_uri": "https://localhost:8080/",
     "height": 260
    },
    "colab_type": "code",
    "id": "jdtBezS8JzT6",
    "outputId": "e3b796f7-29ad-4cb5-ca6f-720dd6705f10"
   },
   "outputs": [
    {
     "data": {
      "text/plain": [
       "(                                1. symbol  \\\n",
       " date                                        \n",
       " 1970-01-01 00:00:00.000000000     BOV.FRK   \n",
       " 1970-01-01 00:00:00.000000001       BOVNF   \n",
       " 1970-01-01 00:00:00.000000002  BOVA11.SAO   \n",
       " 1970-01-01 00:00:00.000000003  BOVB11.SAO   \n",
       " 1970-01-01 00:00:00.000000004  BOVS11.SAO   \n",
       " 1970-01-01 00:00:00.000000005  BOVV11.SAO   \n",
       " 1970-01-01 00:00:00.000000006  BOVX11.SAO   \n",
       " 1970-01-01 00:00:00.000000007    INDX.SAO   \n",
       " \n",
       "                                                              2. name 3. type  \\\n",
       " date                                                                           \n",
       " 1970-01-01 00:00:00.000000000               Apyx Medical Corporation  Equity   \n",
       " 1970-01-01 00:00:00.000000001             BioInvent International AB  Equity   \n",
       " 1970-01-01 00:00:00.000000002            iShares Ibovespa Index Fund     ETF   \n",
       " 1970-01-01 00:00:00.000000003  ETF Bradesco Ibovespa Fundo De Indice     ETF   \n",
       " 1970-01-01 00:00:00.000000004         Safra Ibovespa Fundo De Indice  Equity   \n",
       " 1970-01-01 00:00:00.000000005        It Now Ibovespa Fundo de Indice     ETF   \n",
       " 1970-01-01 00:00:00.000000006     Trend ETF Ibovespa Fundo De Indice     ETF   \n",
       " 1970-01-01 00:00:00.000000007        BOVESPA INDUSTRIAL SECTOR INDEX  Equity   \n",
       " \n",
       "                                       4. region 5. marketOpen 6. marketClose  \\\n",
       " date                                                                           \n",
       " 1970-01-01 00:00:00.000000000         Frankfurt         08:00          20:00   \n",
       " 1970-01-01 00:00:00.000000001     United States         09:30          16:00   \n",
       " 1970-01-01 00:00:00.000000002  Brazil/Sao Paolo         10:00          17:30   \n",
       " 1970-01-01 00:00:00.000000003  Brazil/Sao Paolo         10:00          17:30   \n",
       " 1970-01-01 00:00:00.000000004  Brazil/Sao Paolo         10:00          17:30   \n",
       " 1970-01-01 00:00:00.000000005  Brazil/Sao Paolo         10:00          17:30   \n",
       " 1970-01-01 00:00:00.000000006  Brazil/Sao Paolo         10:00          17:30   \n",
       " 1970-01-01 00:00:00.000000007  Brazil/Sao Paolo         10:00          17:30   \n",
       " \n",
       "                               7. timezone 8. currency 9. matchScore  \n",
       " date                                                                 \n",
       " 1970-01-01 00:00:00.000000000      UTC+02         EUR        0.7500  \n",
       " 1970-01-01 00:00:00.000000001      UTC-04         USD        0.7500  \n",
       " 1970-01-01 00:00:00.000000002      UTC-03         BRL        0.5000  \n",
       " 1970-01-01 00:00:00.000000003      UTC-03         BRL        0.5000  \n",
       " 1970-01-01 00:00:00.000000004      UTC-03         BRL        0.5000  \n",
       " 1970-01-01 00:00:00.000000005      UTC-03         BRL        0.5000  \n",
       " 1970-01-01 00:00:00.000000006      UTC-03         BRL        0.5000  \n",
       " 1970-01-01 00:00:00.000000007      UTC-03         BRL        0.1765  ,\n",
       " None)"
      ]
     },
     "execution_count": 36,
     "metadata": {},
     "output_type": "execute_result"
    }
   ],
   "source": [
    "ts.get_symbol_search('bov')"
   ]
  },
  {
   "cell_type": "code",
   "execution_count": 38,
   "metadata": {
    "colab": {},
    "colab_type": "code",
    "id": "m7CVaoEXJ4_k"
   },
   "outputs": [],
   "source": [
    "dados, meta_dados = ts.get_daily(symbol='INDX.SAO', outputsize='full')"
   ]
  },
  {
   "cell_type": "code",
   "execution_count": 39,
   "metadata": {
    "colab": {
     "base_uri": "https://localhost:8080/",
     "height": 446
    },
    "colab_type": "code",
    "id": "NJcSIuWoKHXj",
    "outputId": "07e6a1f7-14ce-431d-ff43-f98c19263ed1"
   },
   "outputs": [
    {
     "data": {
      "text/html": [
       "<div>\n",
       "<style scoped>\n",
       "    .dataframe tbody tr th:only-of-type {\n",
       "        vertical-align: middle;\n",
       "    }\n",
       "\n",
       "    .dataframe tbody tr th {\n",
       "        vertical-align: top;\n",
       "    }\n",
       "\n",
       "    .dataframe thead th {\n",
       "        text-align: right;\n",
       "    }\n",
       "</style>\n",
       "<table border=\"1\" class=\"dataframe\">\n",
       "  <thead>\n",
       "    <tr style=\"text-align: right;\">\n",
       "      <th></th>\n",
       "      <th>1. open</th>\n",
       "      <th>2. high</th>\n",
       "      <th>3. low</th>\n",
       "      <th>4. close</th>\n",
       "      <th>5. volume</th>\n",
       "    </tr>\n",
       "    <tr>\n",
       "      <th>date</th>\n",
       "      <th></th>\n",
       "      <th></th>\n",
       "      <th></th>\n",
       "      <th></th>\n",
       "      <th></th>\n",
       "    </tr>\n",
       "  </thead>\n",
       "  <tbody>\n",
       "    <tr>\n",
       "      <th>2025-05-26</th>\n",
       "      <td>26667.6309</td>\n",
       "      <td>26667.6309</td>\n",
       "      <td>26667.6309</td>\n",
       "      <td>26667.6309</td>\n",
       "      <td>0.0</td>\n",
       "    </tr>\n",
       "    <tr>\n",
       "      <th>2025-05-23</th>\n",
       "      <td>26718.3301</td>\n",
       "      <td>26718.3301</td>\n",
       "      <td>26718.3301</td>\n",
       "      <td>26718.3301</td>\n",
       "      <td>0.0</td>\n",
       "    </tr>\n",
       "    <tr>\n",
       "      <th>2025-05-22</th>\n",
       "      <td>26611.2402</td>\n",
       "      <td>26938.4004</td>\n",
       "      <td>26590.6504</td>\n",
       "      <td>26659.0293</td>\n",
       "      <td>0.0</td>\n",
       "    </tr>\n",
       "    <tr>\n",
       "      <th>2025-05-21</th>\n",
       "      <td>26611.0195</td>\n",
       "      <td>26611.0195</td>\n",
       "      <td>26611.0195</td>\n",
       "      <td>26611.0195</td>\n",
       "      <td>0.0</td>\n",
       "    </tr>\n",
       "    <tr>\n",
       "      <th>2025-05-20</th>\n",
       "      <td>27002.7891</td>\n",
       "      <td>27002.7891</td>\n",
       "      <td>27002.7891</td>\n",
       "      <td>27002.7891</td>\n",
       "      <td>0.0</td>\n",
       "    </tr>\n",
       "    <tr>\n",
       "      <th>...</th>\n",
       "      <td>...</td>\n",
       "      <td>...</td>\n",
       "      <td>...</td>\n",
       "      <td>...</td>\n",
       "      <td>...</td>\n",
       "    </tr>\n",
       "    <tr>\n",
       "      <th>2006-07-07</th>\n",
       "      <td>5978.0200</td>\n",
       "      <td>6023.6400</td>\n",
       "      <td>5889.0500</td>\n",
       "      <td>5937.9900</td>\n",
       "      <td>0.0</td>\n",
       "    </tr>\n",
       "    <tr>\n",
       "      <th>2006-07-06</th>\n",
       "      <td>5954.1600</td>\n",
       "      <td>6042.6500</td>\n",
       "      <td>5954.1600</td>\n",
       "      <td>5977.6900</td>\n",
       "      <td>0.0</td>\n",
       "    </tr>\n",
       "    <tr>\n",
       "      <th>2006-07-05</th>\n",
       "      <td>6083.1900</td>\n",
       "      <td>6083.1900</td>\n",
       "      <td>5920.3800</td>\n",
       "      <td>5954.5900</td>\n",
       "      <td>0.0</td>\n",
       "    </tr>\n",
       "    <tr>\n",
       "      <th>2006-07-04</th>\n",
       "      <td>6064.0200</td>\n",
       "      <td>6108.3600</td>\n",
       "      <td>6040.5800</td>\n",
       "      <td>6083.4000</td>\n",
       "      <td>0.0</td>\n",
       "    </tr>\n",
       "    <tr>\n",
       "      <th>2006-07-03</th>\n",
       "      <td>5942.6100</td>\n",
       "      <td>6076.1300</td>\n",
       "      <td>5918.2700</td>\n",
       "      <td>6064.0200</td>\n",
       "      <td>0.0</td>\n",
       "    </tr>\n",
       "  </tbody>\n",
       "</table>\n",
       "<p>4677 rows × 5 columns</p>\n",
       "</div>"
      ],
      "text/plain": [
       "               1. open     2. high      3. low    4. close  5. volume\n",
       "date                                                                 \n",
       "2025-05-26  26667.6309  26667.6309  26667.6309  26667.6309        0.0\n",
       "2025-05-23  26718.3301  26718.3301  26718.3301  26718.3301        0.0\n",
       "2025-05-22  26611.2402  26938.4004  26590.6504  26659.0293        0.0\n",
       "2025-05-21  26611.0195  26611.0195  26611.0195  26611.0195        0.0\n",
       "2025-05-20  27002.7891  27002.7891  27002.7891  27002.7891        0.0\n",
       "...                ...         ...         ...         ...        ...\n",
       "2006-07-07   5978.0200   6023.6400   5889.0500   5937.9900        0.0\n",
       "2006-07-06   5954.1600   6042.6500   5954.1600   5977.6900        0.0\n",
       "2006-07-05   6083.1900   6083.1900   5920.3800   5954.5900        0.0\n",
       "2006-07-04   6064.0200   6108.3600   6040.5800   6083.4000        0.0\n",
       "2006-07-03   5942.6100   6076.1300   5918.2700   6064.0200        0.0\n",
       "\n",
       "[4677 rows x 5 columns]"
      ]
     },
     "execution_count": 39,
     "metadata": {},
     "output_type": "execute_result"
    }
   ],
   "source": [
    "dados"
   ]
  },
  {
   "cell_type": "code",
   "execution_count": 40,
   "metadata": {
    "colab": {
     "base_uri": "https://localhost:8080/",
     "height": 104
    },
    "colab_type": "code",
    "id": "KDagA-X9KIyk",
    "outputId": "d4d2a232-cfb2-4c56-c045-e7bfadf23dac"
   },
   "outputs": [
    {
     "data": {
      "text/plain": [
       "{'1. Information': 'Daily Prices (open, high, low, close) and Volumes',\n",
       " '2. Symbol': 'INDX.SAO',\n",
       " '3. Last Refreshed': '2025-05-26',\n",
       " '4. Output Size': 'Full size',\n",
       " '5. Time Zone': 'US/Eastern'}"
      ]
     },
     "execution_count": 40,
     "metadata": {},
     "output_type": "execute_result"
    }
   ],
   "source": [
    "meta_dados"
   ]
  },
  {
   "cell_type": "code",
   "execution_count": 41,
   "metadata": {
    "colab": {
     "base_uri": "https://localhost:8080/",
     "height": 489
    },
    "colab_type": "code",
    "id": "0nBX9-U1KMr8",
    "outputId": "b2b3af36-7f9c-4db9-f73f-1379f349dce4"
   },
   "outputs": [
    {
     "data": {
      "text/plain": [
       "<Axes: xlabel='date'>"
      ]
     },
     "execution_count": 41,
     "metadata": {},
     "output_type": "execute_result"
    },
    {
     "data": {
      "image/png": "[encoded data removed]",
      "text/plain": [
       "<Figure size 1600x800 with 1 Axes>"
      ]
     },
     "metadata": {},
     "output_type": "display_data"
    }
   ],
   "source": [
    "dados['4. close'].plot()"
   ]
  },
  {
   "cell_type": "code",
   "execution_count": null,
   "metadata": {
    "colab": {},
    "colab_type": "code",
    "id": "7GZlX0SoKR4e"
   },
   "outputs": [],
   "source": []
  },
  {
   "cell_type": "code",
   "execution_count": null,
   "metadata": {},
   "outputs": [],
   "source": []
  },
  {
   "cell_type": "code",
   "execution_count": null,
   "metadata": {},
   "outputs": [],
   "source": []
  },
  {
   "cell_type": "code",
   "execution_count": null,
   "metadata": {},
   "outputs": [],
   "source": []
  }
 ],
 "metadata": {
  "colab": {
   "authorship_tag": "ABX9TyMyEEIkeE7fDkFPSQiYckqP",
   "collapsed_sections": [],
   "include_colab_link": true,
   "name": "09 - Alpha Vantage - Python para Investimentos.ipynb",
   "provenance": []
  },
  "kernelspec": {
   "display_name": "Python 3 (ipykernel)",
   "language": "python",
   "name": "python3"
  },
  "language_info": {
   "codemirror_mode": {
    "name": "ipython",
    "version": 3
   },
   "file_extension": ".py",
   "mimetype": "text/x-python",
   "name": "python",
   "nbconvert_exporter": "python",
   "pygments_lexer": "ipython3",
   "version": "3.11.7"
  }
 },
 "nbformat": 4,
 "nbformat_minor": 4
}
