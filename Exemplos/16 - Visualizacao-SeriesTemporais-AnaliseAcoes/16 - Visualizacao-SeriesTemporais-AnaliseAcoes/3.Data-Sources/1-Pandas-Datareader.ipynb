{
 "cells": [
  {
   "cell_type": "markdown",
   "metadata": {},
   "source": [
    "# Pandas Datareader\n",
    "\n",
    "** NOTA: Nem toda localização geográfica funciona bem com o leitor de dados do pandas, seu firewall também pode bloqueá-lo!**\n",
    "\n",
    "As funções de pandas_datareader.data e pandas_datareader.wb extraem dados de várias fontes da Internet para um DataFrame do pandas. Atualmente as seguintes fontes são suportadas:\n",
    "\n",
    "* Yahoo! Finance\n",
    "* Google Finance (descontinuou)\n",
    "* Enigma\n",
    "* St.Louis FED (FRED)\n",
    "* Biblioteca de dados de Kenneth French\n",
    "* Banco Mundial\n",
    "* OCDE\n",
    "* Eurostat\n",
    "* Plano de poupança de poupança\n",
    "* Taxa histórica da moeda Oanda\n",
    "* Definições de símbolos do Nasdaq Trader (remote_data.nasdaq_symbols)\n",
    "\n",
    "https://analyzingalpha.com/yfinance-python\n",
    "\n",
    "Deve-se notar que várias fontes suportam diferentes tipos de dados, portanto nem todas as fontes implementam os mesmos métodos e os elementos de dados retornados também podem ser diferentes."
   ]
  },
  {
   "cell_type": "code",
   "execution_count": 14,
   "metadata": {
    "tags": []
   },
   "outputs": [],
   "source": [
    "import pandas_datareader.data as web\n",
    "import pandas as pd\n",
    "import yfinance as yf\n",
    "import datetime"
   ]
  },
  {
   "cell_type": "code",
   "execution_count": 16,
   "metadata": {},
   "outputs": [],
   "source": [
    "start = datetime.datetime(2015, 1, 1)\n",
    "end = datetime.datetime(2017, 1, 1)\n",
    "#s = '2022-01-03'\n",
    "#e = '2022-01-10'"
   ]
  },
  {
   "cell_type": "code",
   "execution_count": 18,
   "metadata": {},
   "outputs": [
    {
     "name": "stderr",
     "output_type": "stream",
     "text": [
      "[*********************100%***********************]  1 of 1 completed"
     ]
    },
    {
     "name": "stdout",
     "output_type": "stream",
     "text": [
      "Price          Close      High       Low      Open     Volume\n",
      "Ticker          NVDA      NVDA      NVDA      NVDA       NVDA\n",
      "Date                                                         \n",
      "2015-01-02  0.483099  0.486699  0.475419  0.483099  113680000\n",
      "2015-01-05  0.474939  0.484539  0.472779  0.483099  197952000\n",
      "2015-01-06  0.460540  0.476139  0.460060  0.475659  197764000\n",
      "2015-01-07  0.459340  0.467980  0.457900  0.463900  321808000\n",
      "2015-01-08  0.476619  0.479499  0.464380  0.464620  283780000\n"
     ]
    },
    {
     "name": "stderr",
     "output_type": "stream",
     "text": [
      "\n"
     ]
    },
    {
     "data": {
      "text/html": [
       "<div>\n",
       "<style scoped>\n",
       "    .dataframe tbody tr th:only-of-type {\n",
       "        vertical-align: middle;\n",
       "    }\n",
       "\n",
       "    .dataframe tbody tr th {\n",
       "        vertical-align: top;\n",
       "    }\n",
       "\n",
       "    .dataframe thead tr th {\n",
       "        text-align: left;\n",
       "    }\n",
       "\n",
       "    .dataframe thead tr:last-of-type th {\n",
       "        text-align: right;\n",
       "    }\n",
       "</style>\n",
       "<table border=\"1\" class=\"dataframe\">\n",
       "  <thead>\n",
       "    <tr>\n",
       "      <th>Price</th>\n",
       "      <th>Close</th>\n",
       "      <th>High</th>\n",
       "      <th>Low</th>\n",
       "      <th>Open</th>\n",
       "      <th>Volume</th>\n",
       "    </tr>\n",
       "    <tr>\n",
       "      <th>Ticker</th>\n",
       "      <th>NVDA</th>\n",
       "      <th>NVDA</th>\n",
       "      <th>NVDA</th>\n",
       "      <th>NVDA</th>\n",
       "      <th>NVDA</th>\n",
       "    </tr>\n",
       "    <tr>\n",
       "      <th>Date</th>\n",
       "      <th></th>\n",
       "      <th></th>\n",
       "      <th></th>\n",
       "      <th></th>\n",
       "      <th></th>\n",
       "    </tr>\n",
       "  </thead>\n",
       "  <tbody>\n",
       "    <tr>\n",
       "      <th>2015-01-02</th>\n",
       "      <td>0.483099</td>\n",
       "      <td>0.486699</td>\n",
       "      <td>0.475419</td>\n",
       "      <td>0.483099</td>\n",
       "      <td>113680000</td>\n",
       "    </tr>\n",
       "    <tr>\n",
       "      <th>2015-01-05</th>\n",
       "      <td>0.474939</td>\n",
       "      <td>0.484539</td>\n",
       "      <td>0.472779</td>\n",
       "      <td>0.483099</td>\n",
       "      <td>197952000</td>\n",
       "    </tr>\n",
       "    <tr>\n",
       "      <th>2015-01-06</th>\n",
       "      <td>0.460540</td>\n",
       "      <td>0.476139</td>\n",
       "      <td>0.460060</td>\n",
       "      <td>0.475659</td>\n",
       "      <td>197764000</td>\n",
       "    </tr>\n",
       "    <tr>\n",
       "      <th>2015-01-07</th>\n",
       "      <td>0.459340</td>\n",
       "      <td>0.467980</td>\n",
       "      <td>0.457900</td>\n",
       "      <td>0.463900</td>\n",
       "      <td>321808000</td>\n",
       "    </tr>\n",
       "    <tr>\n",
       "      <th>2015-01-08</th>\n",
       "      <td>0.476619</td>\n",
       "      <td>0.479499</td>\n",
       "      <td>0.464380</td>\n",
       "      <td>0.464620</td>\n",
       "      <td>283780000</td>\n",
       "    </tr>\n",
       "  </tbody>\n",
       "</table>\n",
       "</div>"
      ],
      "text/plain": [
       "Price          Close      High       Low      Open     Volume\n",
       "Ticker          NVDA      NVDA      NVDA      NVDA       NVDA\n",
       "Date                                                         \n",
       "2015-01-02  0.483099  0.486699  0.475419  0.483099  113680000\n",
       "2015-01-05  0.474939  0.484539  0.472779  0.483099  197952000\n",
       "2015-01-06  0.460540  0.476139  0.460060  0.475659  197764000\n",
       "2015-01-07  0.459340  0.467980  0.457900  0.463900  321808000\n",
       "2015-01-08  0.476619  0.479499  0.464380  0.464620  283780000"
      ]
     },
     "execution_count": 18,
     "metadata": {},
     "output_type": "execute_result"
    }
   ],
   "source": [
    "#NV = web.DataReader(\"NVDA\", 'yahoo', start, end)\n",
    "\n",
    "#goog = yf.Ticker('goog')\n",
    "#data = goog.history(interval='1d', start=s, end=e)\n",
    "data =  yf.download(\"NVDA\", start, end)\n",
    "#data = yf.download(\"NVDA\", start=\"2024-01-01\", end=\"2024-05-01\")\n",
    "print(data.head())\n",
    "\n",
    "data.head()"
   ]
  },
  {
   "cell_type": "markdown",
   "metadata": {},
   "source": [
    "### Options\n",
    "The get_options_data method downloads options data for specified expiry date and provides a formatted DataFrame with a hierarchical index, so its easy to get to the specific option you want.\n",
    "\n",
    "Available expiry dates can be accessed from the expiry_dates property."
   ]
  },
  {
   "cell_type": "code",
   "execution_count": 28,
   "metadata": {
    "scrolled": true,
    "tags": []
   },
   "outputs": [
    {
     "name": "stdout",
     "output_type": "stream",
     "text": [
      "        contractSymbol             lastTradeDate  strike  lastPrice    bid  \\\n",
      "0  AAPL250509C00110000 2025-05-02 16:14:01+00:00   110.0      90.50  90.15   \n",
      "1  AAPL250509C00120000 2025-04-30 14:54:04+00:00   120.0      89.65  80.10   \n",
      "2  AAPL250509C00125000 2025-04-30 14:54:04+00:00   125.0      84.66  75.05   \n",
      "3  AAPL250509C00130000 2025-05-02 13:51:24+00:00   130.0      72.45  70.10   \n",
      "4  AAPL250509C00135000 2025-05-02 13:31:54+00:00   135.0      68.20  65.10   \n",
      "\n",
      "    ask    change  percentChange  volume  openInterest  impliedVolatility  \\\n",
      "0  90.6 -4.699997      -4.936972     1.0            20           2.285161   \n",
      "1  80.7  0.000000       0.000000     4.0            13           2.119145   \n",
      "2  75.6  0.000000       0.000000     4.0             9           1.839845   \n",
      "3  70.6  0.000000       0.000000    15.0            91           1.703126   \n",
      "4  65.7  0.000000       0.000000     3.0            24           1.683595   \n",
      "\n",
      "   inTheMoney contractSize currency  \n",
      "0        True      REGULAR      USD  \n",
      "1        True      REGULAR      USD  \n",
      "2        True      REGULAR      USD  \n",
      "3        True      REGULAR      USD  \n",
      "4        True      REGULAR      USD  \n",
      "        contractSymbol             lastTradeDate  strike  lastPrice  bid  \\\n",
      "0  AAPL250509P00110000 2025-05-05 13:30:01+00:00   110.0       0.01  0.0   \n",
      "1  AAPL250509P00120000 2025-05-02 18:22:07+00:00   120.0       0.01  0.0   \n",
      "2  AAPL250509P00125000 2025-05-02 17:47:51+00:00   125.0       0.01  0.0   \n",
      "3  AAPL250509P00130000 2025-05-05 15:29:50+00:00   130.0       0.01  0.0   \n",
      "4  AAPL250509P00135000 2025-05-05 16:37:12+00:00   135.0       0.01  0.0   \n",
      "\n",
      "    ask  change  percentChange  volume  openInterest  impliedVolatility  \\\n",
      "0  0.01     0.0            0.0     2.0          1377           1.593752   \n",
      "1  0.01     0.0            0.0   495.0          5027           1.375003   \n",
      "2  0.01     0.0            0.0   236.0          1268           1.281254   \n",
      "3  0.01     0.0            0.0    15.0          1806           1.187504   \n",
      "4  0.01     0.0            0.0    49.0          3583           1.062505   \n",
      "\n",
      "   inTheMoney contractSize currency  \n",
      "0       False      REGULAR      USD  \n",
      "1       False      REGULAR      USD  \n",
      "2       False      REGULAR      USD  \n",
      "3       False      REGULAR      USD  \n",
      "4       False      REGULAR      USD  \n"
     ]
    }
   ],
   "source": [
    "import yfinance as yf\n",
    "\n",
    "# Baixar dados das opções da Apple\n",
    "aapl = yf.Ticker(\"AAPL\")\n",
    "opcoes = aapl.option_chain()\n",
    "\n",
    "print(opcoes.calls.head())  # Exibir opções de compra (calls)\n",
    "print(opcoes.puts.head())   # Exibir opções de venda (puts)"
   ]
  },
  {
   "cell_type": "code",
   "execution_count": 17,
   "metadata": {},
   "outputs": [],
   "source": [
    "#data.head()"
   ]
  },
  {
   "cell_type": "markdown",
   "metadata": {},
   "source": [
    "# FRED (Federal Reserve Economic Data)"
   ]
  },
  {
   "cell_type": "code",
   "execution_count": 37,
   "metadata": {
    "tags": []
   },
   "outputs": [],
   "source": [
    "import pandas_datareader.data as web\n",
    "\n",
    "import datetime\n",
    "\n",
    "start = datetime.datetime(2010, 1, 1)\n",
    "\n",
    "end = datetime.datetime(2025, 1, 1)\n",
    "\n",
    "gdp = web.DataReader(\"GDP\", \"fred\", start, end)"
   ]
  },
  {
   "cell_type": "code",
   "execution_count": 39,
   "metadata": {},
   "outputs": [
    {
     "data": {
      "text/html": [
       "<div>\n",
       "<style scoped>\n",
       "    .dataframe tbody tr th:only-of-type {\n",
       "        vertical-align: middle;\n",
       "    }\n",
       "\n",
       "    .dataframe tbody tr th {\n",
       "        vertical-align: top;\n",
       "    }\n",
       "\n",
       "    .dataframe thead th {\n",
       "        text-align: right;\n",
       "    }\n",
       "</style>\n",
       "<table border=\"1\" class=\"dataframe\">\n",
       "  <thead>\n",
       "    <tr style=\"text-align: right;\">\n",
       "      <th></th>\n",
       "      <th>GDP</th>\n",
       "    </tr>\n",
       "    <tr>\n",
       "      <th>DATE</th>\n",
       "      <th></th>\n",
       "    </tr>\n",
       "  </thead>\n",
       "  <tbody>\n",
       "    <tr>\n",
       "      <th>2010-01-01</th>\n",
       "      <td>14764.610</td>\n",
       "    </tr>\n",
       "    <tr>\n",
       "      <th>2010-04-01</th>\n",
       "      <td>14980.193</td>\n",
       "    </tr>\n",
       "    <tr>\n",
       "      <th>2010-07-01</th>\n",
       "      <td>15141.607</td>\n",
       "    </tr>\n",
       "    <tr>\n",
       "      <th>2010-10-01</th>\n",
       "      <td>15309.474</td>\n",
       "    </tr>\n",
       "    <tr>\n",
       "      <th>2011-01-01</th>\n",
       "      <td>15351.448</td>\n",
       "    </tr>\n",
       "  </tbody>\n",
       "</table>\n",
       "</div>"
      ],
      "text/plain": [
       "                  GDP\n",
       "DATE                 \n",
       "2010-01-01  14764.610\n",
       "2010-04-01  14980.193\n",
       "2010-07-01  15141.607\n",
       "2010-10-01  15309.474\n",
       "2011-01-01  15351.448"
      ]
     },
     "execution_count": 39,
     "metadata": {},
     "output_type": "execute_result"
    }
   ],
   "source": [
    "gdp.head()"
   ]
  },
  {
   "cell_type": "code",
   "execution_count": 48,
   "metadata": {},
   "outputs": [
    {
     "data": {
      "text/plain": [
       "Text(0, 0.5, 'PIB (em bilhões de dólares)')"
      ]
     },
     "execution_count": 48,
     "metadata": {},
     "output_type": "execute_result"
    },
    {
     "data": {
      "image/png": "[encoded data removed]",
      "text/plain": [
       "<Figure size 1000x500 with 1 Axes>"
      ]
     },
     "metadata": {},
     "output_type": "display_data"
    }
   ],
   "source": [
    "import matplotlib.pyplot as plt\n",
    "plt.figure(figsize=(10, 5))\n",
    "plt.plot(gdp.index, gdp['GDP'], linestyle='-', marker='o', color='blue', label=\"GDP dos EUA\")\n",
    "plt.xlabel(\"Ano\")\n",
    "plt.ylabel(\"PIB (em bilhões de dólares)\")\n"
   ]
  },
  {
   "cell_type": "code",
   "execution_count": null,
   "metadata": {},
   "outputs": [],
   "source": []
  },
  {
   "cell_type": "code",
   "execution_count": null,
   "metadata": {},
   "outputs": [],
   "source": []
  }
 ],
 "metadata": {
  "kernelspec": {
   "display_name": "Python 3 (ipykernel)",
   "language": "python",
   "name": "python3"
  },
  "language_info": {
   "codemirror_mode": {
    "name": "ipython",
    "version": 3
   },
   "file_extension": ".py",
   "mimetype": "text/x-python",
   "name": "python",
   "nbconvert_exporter": "python",
   "pygments_lexer": "ipython3",
   "version": "3.11.7"
  }
 },
 "nbformat": 4,
 "nbformat_minor": 4
}
