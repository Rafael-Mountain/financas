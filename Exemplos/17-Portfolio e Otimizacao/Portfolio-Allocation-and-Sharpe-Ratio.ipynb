{
 "cells": [
  {
   "cell_type": "markdown",
   "metadata": {},
   "source": [
    "# Sharpe Ratio and Portfolio Values"
   ]
  },
  {
   "cell_type": "code",
   "execution_count": 1,
   "metadata": {},
   "outputs": [],
   "source": [
    "import pandas as pd"
   ]
  },
  {
   "cell_type": "code",
   "execution_count": 3,
   "metadata": {},
   "outputs": [],
   "source": [
    "import yfinance as yf"
   ]
  },
  {
   "cell_type": "markdown",
   "metadata": {},
   "source": [
    "## Create a Portfolio"
   ]
  },
  {
   "cell_type": "code",
   "execution_count": 4,
   "metadata": {},
   "outputs": [],
   "source": [
    "start = pd.to_datetime('2012-01-01')\n",
    "end = pd.to_datetime('2017-01-01')  # não tem negociação nesse dia"
   ]
  },
  {
   "cell_type": "code",
   "execution_count": 6,
   "metadata": {},
   "outputs": [
    {
     "name": "stderr",
     "output_type": "stream",
     "text": [
      "[*********************100%%**********************]  1 of 1 completed\n",
      "[*********************100%%**********************]  1 of 1 completed\n",
      "[*********************100%%**********************]  1 of 1 completed\n",
      "[*********************100%%**********************]  1 of 1 completed\n"
     ]
    }
   ],
   "source": [
    "aapl =  yf.download(\"AAPL\", start, end)\n",
    "msft =  yf.download(\"MSFT\", start, end)\n",
    "ibm =  yf.download(\"IBM\", start, end)\n",
    "amzn =  yf.download(\"AMZN\", start, end)"
   ]
  },
  {
   "cell_type": "code",
   "execution_count": 7,
   "metadata": {},
   "outputs": [],
   "source": [
    "# Alternative\n",
    "#aapl = pd.read_csv('AAPL_CLOSE',index_col='Date',parse_dates=True)\n",
    "#msft = pd.read_csv('MSFT_CLOSE',index_col='Date',parse_dates=True)\n",
    "#ibm = pd.read_csv('IBM_CLOSE',index_col='Date',parse_dates=True)\n",
    "#amzn = pd.read_csv('AMZN_CLOSE',index_col='Date',parse_dates=True)"
   ]
  },
  {
   "cell_type": "code",
   "execution_count": 8,
   "metadata": {},
   "outputs": [],
   "source": [
    "#aapl.to_csv('AAPL_CLOSE')\n",
    "#msft.to_csv('MSFT_CLOSE')\n",
    "#ibm.to_csv('IBM_CLOSE')\n",
    "#amzn.to_csv('AMZN_CLOSE')"
   ]
  },
  {
   "cell_type": "code",
   "execution_count": 9,
   "metadata": {
    "scrolled": true
   },
   "outputs": [
    {
     "data": {
      "text/html": [
       "<div>\n",
       "<style scoped>\n",
       "    .dataframe tbody tr th:only-of-type {\n",
       "        vertical-align: middle;\n",
       "    }\n",
       "\n",
       "    .dataframe tbody tr th {\n",
       "        vertical-align: top;\n",
       "    }\n",
       "\n",
       "    .dataframe thead th {\n",
       "        text-align: right;\n",
       "    }\n",
       "</style>\n",
       "<table border=\"1\" class=\"dataframe\">\n",
       "  <thead>\n",
       "    <tr style=\"text-align: right;\">\n",
       "      <th></th>\n",
       "      <th>Open</th>\n",
       "      <th>High</th>\n",
       "      <th>Low</th>\n",
       "      <th>Close</th>\n",
       "      <th>Adj Close</th>\n",
       "      <th>Volume</th>\n",
       "    </tr>\n",
       "    <tr>\n",
       "      <th>Date</th>\n",
       "      <th></th>\n",
       "      <th></th>\n",
       "      <th></th>\n",
       "      <th></th>\n",
       "      <th></th>\n",
       "      <th></th>\n",
       "    </tr>\n",
       "  </thead>\n",
       "  <tbody>\n",
       "    <tr>\n",
       "      <th>2012-01-03</th>\n",
       "      <td>8.7945</td>\n",
       "      <td>8.9740</td>\n",
       "      <td>8.7775</td>\n",
       "      <td>8.9515</td>\n",
       "      <td>8.9515</td>\n",
       "      <td>102216000</td>\n",
       "    </tr>\n",
       "    <tr>\n",
       "      <th>2012-01-04</th>\n",
       "      <td>8.9605</td>\n",
       "      <td>9.0250</td>\n",
       "      <td>8.8035</td>\n",
       "      <td>8.8755</td>\n",
       "      <td>8.8755</td>\n",
       "      <td>84104000</td>\n",
       "    </tr>\n",
       "    <tr>\n",
       "      <th>2012-01-05</th>\n",
       "      <td>8.7970</td>\n",
       "      <td>8.9125</td>\n",
       "      <td>8.7025</td>\n",
       "      <td>8.8805</td>\n",
       "      <td>8.8805</td>\n",
       "      <td>76182000</td>\n",
       "    </tr>\n",
       "    <tr>\n",
       "      <th>2012-01-06</th>\n",
       "      <td>8.9035</td>\n",
       "      <td>9.2325</td>\n",
       "      <td>8.8750</td>\n",
       "      <td>9.1305</td>\n",
       "      <td>9.1305</td>\n",
       "      <td>140168000</td>\n",
       "    </tr>\n",
       "    <tr>\n",
       "      <th>2012-01-09</th>\n",
       "      <td>9.1380</td>\n",
       "      <td>9.2185</td>\n",
       "      <td>8.8500</td>\n",
       "      <td>8.9280</td>\n",
       "      <td>8.9280</td>\n",
       "      <td>101138000</td>\n",
       "    </tr>\n",
       "  </tbody>\n",
       "</table>\n",
       "</div>"
      ],
      "text/plain": [
       "              Open    High     Low   Close  Adj Close     Volume\n",
       "Date                                                            \n",
       "2012-01-03  8.7945  8.9740  8.7775  8.9515     8.9515  102216000\n",
       "2012-01-04  8.9605  9.0250  8.8035  8.8755     8.8755   84104000\n",
       "2012-01-05  8.7970  8.9125  8.7025  8.8805     8.8805   76182000\n",
       "2012-01-06  8.9035  9.2325  8.8750  9.1305     9.1305  140168000\n",
       "2012-01-09  9.1380  9.2185  8.8500  8.9280     8.9280  101138000"
      ]
     },
     "execution_count": 9,
     "metadata": {},
     "output_type": "execute_result"
    }
   ],
   "source": [
    "amzn.head()"
   ]
  },
  {
   "cell_type": "markdown",
   "metadata": {},
   "source": [
    "## Normalize Prices\n",
    "\n",
    "This is the same as cumulative daily returns"
   ]
  },
  {
   "cell_type": "code",
   "execution_count": 10,
   "metadata": {},
   "outputs": [
    {
     "data": {
      "text/plain": [
       "8.951499938964844"
      ]
     },
     "execution_count": 10,
     "metadata": {},
     "output_type": "execute_result"
    }
   ],
   "source": [
    "# Example\n",
    "amzn.iloc[0]['Adj Close']"
   ]
  },
  {
   "cell_type": "code",
   "execution_count": 11,
   "metadata": {},
   "outputs": [
    {
     "name": "stdout",
     "output_type": "stream",
     "text": [
      "Open         1258\n",
      "High         1258\n",
      "Low          1258\n",
      "Close        1258\n",
      "Adj Close    1258\n",
      "Volume       1258\n",
      "dtype: int64\n",
      "Open         1258\n",
      "High         1258\n",
      "Low          1258\n",
      "Close        1258\n",
      "Adj Close    1258\n",
      "Volume       1258\n",
      "dtype: int64\n",
      "Open         1258\n",
      "High         1258\n",
      "Low          1258\n",
      "Close        1258\n",
      "Adj Close    1258\n",
      "Volume       1258\n",
      "dtype: int64\n",
      "Open         1258\n",
      "High         1258\n",
      "Low          1258\n",
      "Close        1258\n",
      "Adj Close    1258\n",
      "Volume       1258\n",
      "dtype: int64\n"
     ]
    }
   ],
   "source": [
    "print(aapl.count())\n",
    "print(msft.count())\n",
    "print(ibm.count())\n",
    "print(amzn.count())"
   ]
  },
  {
   "cell_type": "code",
   "execution_count": 12,
   "metadata": {},
   "outputs": [],
   "source": [
    "# criando para cada dataframe e de modo automatico, uma nova coluna. Na hora de imprimir, imprime o último.\n",
    "for stock_df in (aapl,msft,ibm,amzn):\n",
    "    stock_df['Normed Return'] = stock_df['Adj Close']/stock_df.iloc[0]['Adj Close']"
   ]
  },
  {
   "cell_type": "code",
   "execution_count": 13,
   "metadata": {},
   "outputs": [
    {
     "data": {
      "text/plain": [
       "Index(['Open', 'High', 'Low', 'Close', 'Adj Close', 'Volume', 'Normed Return'], dtype='object')"
      ]
     },
     "execution_count": 13,
     "metadata": {},
     "output_type": "execute_result"
    }
   ],
   "source": [
    "aapl.columns"
   ]
  },
  {
   "cell_type": "code",
   "execution_count": 14,
   "metadata": {
    "scrolled": true
   },
   "outputs": [
    {
     "data": {
      "text/html": [
       "<div>\n",
       "<style scoped>\n",
       "    .dataframe tbody tr th:only-of-type {\n",
       "        vertical-align: middle;\n",
       "    }\n",
       "\n",
       "    .dataframe tbody tr th {\n",
       "        vertical-align: top;\n",
       "    }\n",
       "\n",
       "    .dataframe thead th {\n",
       "        text-align: right;\n",
       "    }\n",
       "</style>\n",
       "<table border=\"1\" class=\"dataframe\">\n",
       "  <thead>\n",
       "    <tr style=\"text-align: right;\">\n",
       "      <th></th>\n",
       "      <th>Open</th>\n",
       "      <th>High</th>\n",
       "      <th>Low</th>\n",
       "      <th>Close</th>\n",
       "      <th>Adj Close</th>\n",
       "      <th>Volume</th>\n",
       "      <th>Normed Return</th>\n",
       "    </tr>\n",
       "    <tr>\n",
       "      <th>Date</th>\n",
       "      <th></th>\n",
       "      <th></th>\n",
       "      <th></th>\n",
       "      <th></th>\n",
       "      <th></th>\n",
       "      <th></th>\n",
       "      <th></th>\n",
       "    </tr>\n",
       "  </thead>\n",
       "  <tbody>\n",
       "    <tr>\n",
       "      <th>2012-01-03</th>\n",
       "      <td>14.621429</td>\n",
       "      <td>14.732143</td>\n",
       "      <td>14.607143</td>\n",
       "      <td>14.686786</td>\n",
       "      <td>12.416985</td>\n",
       "      <td>302220800</td>\n",
       "      <td>1.000000</td>\n",
       "    </tr>\n",
       "    <tr>\n",
       "      <th>2012-01-04</th>\n",
       "      <td>14.642857</td>\n",
       "      <td>14.810000</td>\n",
       "      <td>14.617143</td>\n",
       "      <td>14.765714</td>\n",
       "      <td>12.483716</td>\n",
       "      <td>260022000</td>\n",
       "      <td>1.005374</td>\n",
       "    </tr>\n",
       "    <tr>\n",
       "      <th>2012-01-05</th>\n",
       "      <td>14.819643</td>\n",
       "      <td>14.948214</td>\n",
       "      <td>14.738214</td>\n",
       "      <td>14.929643</td>\n",
       "      <td>12.622305</td>\n",
       "      <td>271269600</td>\n",
       "      <td>1.016535</td>\n",
       "    </tr>\n",
       "    <tr>\n",
       "      <th>2012-01-06</th>\n",
       "      <td>14.991786</td>\n",
       "      <td>15.098214</td>\n",
       "      <td>14.972143</td>\n",
       "      <td>15.085714</td>\n",
       "      <td>12.754254</td>\n",
       "      <td>318292800</td>\n",
       "      <td>1.027162</td>\n",
       "    </tr>\n",
       "    <tr>\n",
       "      <th>2012-01-09</th>\n",
       "      <td>15.196429</td>\n",
       "      <td>15.276786</td>\n",
       "      <td>15.048214</td>\n",
       "      <td>15.061786</td>\n",
       "      <td>12.734029</td>\n",
       "      <td>394024400</td>\n",
       "      <td>1.025533</td>\n",
       "    </tr>\n",
       "  </tbody>\n",
       "</table>\n",
       "</div>"
      ],
      "text/plain": [
       "                 Open       High        Low      Close  Adj Close     Volume  \\\n",
       "Date                                                                           \n",
       "2012-01-03  14.621429  14.732143  14.607143  14.686786  12.416985  302220800   \n",
       "2012-01-04  14.642857  14.810000  14.617143  14.765714  12.483716  260022000   \n",
       "2012-01-05  14.819643  14.948214  14.738214  14.929643  12.622305  271269600   \n",
       "2012-01-06  14.991786  15.098214  14.972143  15.085714  12.754254  318292800   \n",
       "2012-01-09  15.196429  15.276786  15.048214  15.061786  12.734029  394024400   \n",
       "\n",
       "            Normed Return  \n",
       "Date                       \n",
       "2012-01-03       1.000000  \n",
       "2012-01-04       1.005374  \n",
       "2012-01-05       1.016535  \n",
       "2012-01-06       1.027162  \n",
       "2012-01-09       1.025533  "
      ]
     },
     "execution_count": 14,
     "metadata": {},
     "output_type": "execute_result"
    }
   ],
   "source": [
    "aapl.head()"
   ]
  },
  {
   "cell_type": "code",
   "execution_count": 15,
   "metadata": {},
   "outputs": [
    {
     "data": {
      "text/html": [
       "<div>\n",
       "<style scoped>\n",
       "    .dataframe tbody tr th:only-of-type {\n",
       "        vertical-align: middle;\n",
       "    }\n",
       "\n",
       "    .dataframe tbody tr th {\n",
       "        vertical-align: top;\n",
       "    }\n",
       "\n",
       "    .dataframe thead th {\n",
       "        text-align: right;\n",
       "    }\n",
       "</style>\n",
       "<table border=\"1\" class=\"dataframe\">\n",
       "  <thead>\n",
       "    <tr style=\"text-align: right;\">\n",
       "      <th></th>\n",
       "      <th>Open</th>\n",
       "      <th>High</th>\n",
       "      <th>Low</th>\n",
       "      <th>Close</th>\n",
       "      <th>Adj Close</th>\n",
       "      <th>Volume</th>\n",
       "      <th>Normed Return</th>\n",
       "    </tr>\n",
       "    <tr>\n",
       "      <th>Date</th>\n",
       "      <th></th>\n",
       "      <th></th>\n",
       "      <th></th>\n",
       "      <th></th>\n",
       "      <th></th>\n",
       "      <th></th>\n",
       "      <th></th>\n",
       "    </tr>\n",
       "  </thead>\n",
       "  <tbody>\n",
       "    <tr>\n",
       "      <th>2012-01-03</th>\n",
       "      <td>26.549999</td>\n",
       "      <td>26.959999</td>\n",
       "      <td>26.389999</td>\n",
       "      <td>26.770000</td>\n",
       "      <td>21.200512</td>\n",
       "      <td>64731500</td>\n",
       "      <td>1.000000</td>\n",
       "    </tr>\n",
       "    <tr>\n",
       "      <th>2012-01-04</th>\n",
       "      <td>26.820000</td>\n",
       "      <td>27.469999</td>\n",
       "      <td>26.780001</td>\n",
       "      <td>27.400000</td>\n",
       "      <td>21.699440</td>\n",
       "      <td>80516100</td>\n",
       "      <td>1.023534</td>\n",
       "    </tr>\n",
       "    <tr>\n",
       "      <th>2012-01-05</th>\n",
       "      <td>27.379999</td>\n",
       "      <td>27.730000</td>\n",
       "      <td>27.290001</td>\n",
       "      <td>27.680000</td>\n",
       "      <td>21.921188</td>\n",
       "      <td>56081400</td>\n",
       "      <td>1.033993</td>\n",
       "    </tr>\n",
       "    <tr>\n",
       "      <th>2012-01-06</th>\n",
       "      <td>27.530001</td>\n",
       "      <td>28.190001</td>\n",
       "      <td>27.530001</td>\n",
       "      <td>28.110001</td>\n",
       "      <td>22.261724</td>\n",
       "      <td>99455500</td>\n",
       "      <td>1.050056</td>\n",
       "    </tr>\n",
       "    <tr>\n",
       "      <th>2012-01-09</th>\n",
       "      <td>28.049999</td>\n",
       "      <td>28.100000</td>\n",
       "      <td>27.719999</td>\n",
       "      <td>27.740000</td>\n",
       "      <td>21.968702</td>\n",
       "      <td>59706800</td>\n",
       "      <td>1.036235</td>\n",
       "    </tr>\n",
       "  </tbody>\n",
       "</table>\n",
       "</div>"
      ],
      "text/plain": [
       "                 Open       High        Low      Close  Adj Close    Volume  \\\n",
       "Date                                                                          \n",
       "2012-01-03  26.549999  26.959999  26.389999  26.770000  21.200512  64731500   \n",
       "2012-01-04  26.820000  27.469999  26.780001  27.400000  21.699440  80516100   \n",
       "2012-01-05  27.379999  27.730000  27.290001  27.680000  21.921188  56081400   \n",
       "2012-01-06  27.530001  28.190001  27.530001  28.110001  22.261724  99455500   \n",
       "2012-01-09  28.049999  28.100000  27.719999  27.740000  21.968702  59706800   \n",
       "\n",
       "            Normed Return  \n",
       "Date                       \n",
       "2012-01-03       1.000000  \n",
       "2012-01-04       1.023534  \n",
       "2012-01-05       1.033993  \n",
       "2012-01-06       1.050056  \n",
       "2012-01-09       1.036235  "
      ]
     },
     "execution_count": 15,
     "metadata": {},
     "output_type": "execute_result"
    }
   ],
   "source": [
    "msft.head()"
   ]
  },
  {
   "cell_type": "code",
   "execution_count": 16,
   "metadata": {},
   "outputs": [
    {
     "data": {
      "text/html": [
       "<div>\n",
       "<style scoped>\n",
       "    .dataframe tbody tr th:only-of-type {\n",
       "        vertical-align: middle;\n",
       "    }\n",
       "\n",
       "    .dataframe tbody tr th {\n",
       "        vertical-align: top;\n",
       "    }\n",
       "\n",
       "    .dataframe thead th {\n",
       "        text-align: right;\n",
       "    }\n",
       "</style>\n",
       "<table border=\"1\" class=\"dataframe\">\n",
       "  <thead>\n",
       "    <tr style=\"text-align: right;\">\n",
       "      <th></th>\n",
       "      <th>Open</th>\n",
       "      <th>High</th>\n",
       "      <th>Low</th>\n",
       "      <th>Close</th>\n",
       "      <th>Adj Close</th>\n",
       "      <th>Volume</th>\n",
       "      <th>Normed Return</th>\n",
       "    </tr>\n",
       "    <tr>\n",
       "      <th>Date</th>\n",
       "      <th></th>\n",
       "      <th></th>\n",
       "      <th></th>\n",
       "      <th></th>\n",
       "      <th></th>\n",
       "      <th></th>\n",
       "      <th></th>\n",
       "    </tr>\n",
       "  </thead>\n",
       "  <tbody>\n",
       "    <tr>\n",
       "      <th>2012-01-03</th>\n",
       "      <td>178.518158</td>\n",
       "      <td>180.411087</td>\n",
       "      <td>177.820267</td>\n",
       "      <td>178.107071</td>\n",
       "      <td>110.805695</td>\n",
       "      <td>5905716</td>\n",
       "      <td>1.000000</td>\n",
       "    </tr>\n",
       "    <tr>\n",
       "      <th>2012-01-04</th>\n",
       "      <td>177.409180</td>\n",
       "      <td>178.135757</td>\n",
       "      <td>176.806885</td>\n",
       "      <td>177.380493</td>\n",
       "      <td>110.353683</td>\n",
       "      <td>4546648</td>\n",
       "      <td>0.995921</td>\n",
       "    </tr>\n",
       "    <tr>\n",
       "      <th>2012-01-05</th>\n",
       "      <td>176.682602</td>\n",
       "      <td>176.892929</td>\n",
       "      <td>175.047806</td>\n",
       "      <td>176.539200</td>\n",
       "      <td>109.830292</td>\n",
       "      <td>4668403</td>\n",
       "      <td>0.991197</td>\n",
       "    </tr>\n",
       "    <tr>\n",
       "      <th>2012-01-06</th>\n",
       "      <td>176.281067</td>\n",
       "      <td>176.367111</td>\n",
       "      <td>174.292542</td>\n",
       "      <td>174.512421</td>\n",
       "      <td>108.569351</td>\n",
       "      <td>5122367</td>\n",
       "      <td>0.979817</td>\n",
       "    </tr>\n",
       "    <tr>\n",
       "      <th>2012-01-09</th>\n",
       "      <td>174.187378</td>\n",
       "      <td>174.254303</td>\n",
       "      <td>172.342255</td>\n",
       "      <td>173.604202</td>\n",
       "      <td>108.004311</td>\n",
       "      <td>5440455</td>\n",
       "      <td>0.974718</td>\n",
       "    </tr>\n",
       "  </tbody>\n",
       "</table>\n",
       "</div>"
      ],
      "text/plain": [
       "                  Open        High         Low       Close   Adj Close  \\\n",
       "Date                                                                     \n",
       "2012-01-03  178.518158  180.411087  177.820267  178.107071  110.805695   \n",
       "2012-01-04  177.409180  178.135757  176.806885  177.380493  110.353683   \n",
       "2012-01-05  176.682602  176.892929  175.047806  176.539200  109.830292   \n",
       "2012-01-06  176.281067  176.367111  174.292542  174.512421  108.569351   \n",
       "2012-01-09  174.187378  174.254303  172.342255  173.604202  108.004311   \n",
       "\n",
       "             Volume  Normed Return  \n",
       "Date                                \n",
       "2012-01-03  5905716       1.000000  \n",
       "2012-01-04  4546648       0.995921  \n",
       "2012-01-05  4668403       0.991197  \n",
       "2012-01-06  5122367       0.979817  \n",
       "2012-01-09  5440455       0.974718  "
      ]
     },
     "execution_count": 16,
     "metadata": {},
     "output_type": "execute_result"
    }
   ],
   "source": [
    "ibm.head()"
   ]
  },
  {
   "cell_type": "code",
   "execution_count": 17,
   "metadata": {},
   "outputs": [
    {
     "data": {
      "text/html": [
       "<div>\n",
       "<style scoped>\n",
       "    .dataframe tbody tr th:only-of-type {\n",
       "        vertical-align: middle;\n",
       "    }\n",
       "\n",
       "    .dataframe tbody tr th {\n",
       "        vertical-align: top;\n",
       "    }\n",
       "\n",
       "    .dataframe thead th {\n",
       "        text-align: right;\n",
       "    }\n",
       "</style>\n",
       "<table border=\"1\" class=\"dataframe\">\n",
       "  <thead>\n",
       "    <tr style=\"text-align: right;\">\n",
       "      <th></th>\n",
       "      <th>Open</th>\n",
       "      <th>High</th>\n",
       "      <th>Low</th>\n",
       "      <th>Close</th>\n",
       "      <th>Adj Close</th>\n",
       "      <th>Volume</th>\n",
       "      <th>Normed Return</th>\n",
       "    </tr>\n",
       "    <tr>\n",
       "      <th>Date</th>\n",
       "      <th></th>\n",
       "      <th></th>\n",
       "      <th></th>\n",
       "      <th></th>\n",
       "      <th></th>\n",
       "      <th></th>\n",
       "      <th></th>\n",
       "    </tr>\n",
       "  </thead>\n",
       "  <tbody>\n",
       "    <tr>\n",
       "      <th>2012-01-03</th>\n",
       "      <td>8.7945</td>\n",
       "      <td>8.9740</td>\n",
       "      <td>8.7775</td>\n",
       "      <td>8.9515</td>\n",
       "      <td>8.9515</td>\n",
       "      <td>102216000</td>\n",
       "      <td>1.000000</td>\n",
       "    </tr>\n",
       "    <tr>\n",
       "      <th>2012-01-04</th>\n",
       "      <td>8.9605</td>\n",
       "      <td>9.0250</td>\n",
       "      <td>8.8035</td>\n",
       "      <td>8.8755</td>\n",
       "      <td>8.8755</td>\n",
       "      <td>84104000</td>\n",
       "      <td>0.991510</td>\n",
       "    </tr>\n",
       "    <tr>\n",
       "      <th>2012-01-05</th>\n",
       "      <td>8.7970</td>\n",
       "      <td>8.9125</td>\n",
       "      <td>8.7025</td>\n",
       "      <td>8.8805</td>\n",
       "      <td>8.8805</td>\n",
       "      <td>76182000</td>\n",
       "      <td>0.992068</td>\n",
       "    </tr>\n",
       "    <tr>\n",
       "      <th>2012-01-06</th>\n",
       "      <td>8.9035</td>\n",
       "      <td>9.2325</td>\n",
       "      <td>8.8750</td>\n",
       "      <td>9.1305</td>\n",
       "      <td>9.1305</td>\n",
       "      <td>140168000</td>\n",
       "      <td>1.019997</td>\n",
       "    </tr>\n",
       "    <tr>\n",
       "      <th>2012-01-09</th>\n",
       "      <td>9.1380</td>\n",
       "      <td>9.2185</td>\n",
       "      <td>8.8500</td>\n",
       "      <td>8.9280</td>\n",
       "      <td>8.9280</td>\n",
       "      <td>101138000</td>\n",
       "      <td>0.997375</td>\n",
       "    </tr>\n",
       "  </tbody>\n",
       "</table>\n",
       "</div>"
      ],
      "text/plain": [
       "              Open    High     Low   Close  Adj Close     Volume  \\\n",
       "Date                                                               \n",
       "2012-01-03  8.7945  8.9740  8.7775  8.9515     8.9515  102216000   \n",
       "2012-01-04  8.9605  9.0250  8.8035  8.8755     8.8755   84104000   \n",
       "2012-01-05  8.7970  8.9125  8.7025  8.8805     8.8805   76182000   \n",
       "2012-01-06  8.9035  9.2325  8.8750  9.1305     9.1305  140168000   \n",
       "2012-01-09  9.1380  9.2185  8.8500  8.9280     8.9280  101138000   \n",
       "\n",
       "            Normed Return  \n",
       "Date                       \n",
       "2012-01-03       1.000000  \n",
       "2012-01-04       0.991510  \n",
       "2012-01-05       0.992068  \n",
       "2012-01-06       1.019997  \n",
       "2012-01-09       0.997375  "
      ]
     },
     "execution_count": 17,
     "metadata": {},
     "output_type": "execute_result"
    }
   ],
   "source": [
    "amzn.head()\n"
   ]
  },
  {
   "cell_type": "code",
   "execution_count": 18,
   "metadata": {},
   "outputs": [
    {
     "data": {
      "text/html": [
       "<div>\n",
       "<style scoped>\n",
       "    .dataframe tbody tr th:only-of-type {\n",
       "        vertical-align: middle;\n",
       "    }\n",
       "\n",
       "    .dataframe tbody tr th {\n",
       "        vertical-align: top;\n",
       "    }\n",
       "\n",
       "    .dataframe thead th {\n",
       "        text-align: right;\n",
       "    }\n",
       "</style>\n",
       "<table border=\"1\" class=\"dataframe\">\n",
       "  <thead>\n",
       "    <tr style=\"text-align: right;\">\n",
       "      <th></th>\n",
       "      <th>Open</th>\n",
       "      <th>High</th>\n",
       "      <th>Low</th>\n",
       "      <th>Close</th>\n",
       "      <th>Adj Close</th>\n",
       "      <th>Volume</th>\n",
       "      <th>Normed Return</th>\n",
       "    </tr>\n",
       "    <tr>\n",
       "      <th>Date</th>\n",
       "      <th></th>\n",
       "      <th></th>\n",
       "      <th></th>\n",
       "      <th></th>\n",
       "      <th></th>\n",
       "      <th></th>\n",
       "      <th></th>\n",
       "    </tr>\n",
       "  </thead>\n",
       "  <tbody>\n",
       "    <tr>\n",
       "      <th>2016-12-23</th>\n",
       "      <td>159.655838</td>\n",
       "      <td>160.124283</td>\n",
       "      <td>159.130020</td>\n",
       "      <td>159.378586</td>\n",
       "      <td>112.855698</td>\n",
       "      <td>1779455</td>\n",
       "      <td>1.018501</td>\n",
       "    </tr>\n",
       "    <tr>\n",
       "      <th>2016-12-27</th>\n",
       "      <td>159.636703</td>\n",
       "      <td>160.592728</td>\n",
       "      <td>159.512421</td>\n",
       "      <td>159.789673</td>\n",
       "      <td>113.146782</td>\n",
       "      <td>1461785</td>\n",
       "      <td>1.021128</td>\n",
       "    </tr>\n",
       "    <tr>\n",
       "      <th>2016-12-28</th>\n",
       "      <td>159.933075</td>\n",
       "      <td>160.363297</td>\n",
       "      <td>158.699814</td>\n",
       "      <td>158.881454</td>\n",
       "      <td>112.503708</td>\n",
       "      <td>1838345</td>\n",
       "      <td>1.015324</td>\n",
       "    </tr>\n",
       "    <tr>\n",
       "      <th>2016-12-29</th>\n",
       "      <td>158.718933</td>\n",
       "      <td>159.646271</td>\n",
       "      <td>158.699814</td>\n",
       "      <td>159.273422</td>\n",
       "      <td>112.781265</td>\n",
       "      <td>1740021</td>\n",
       "      <td>1.017829</td>\n",
       "    </tr>\n",
       "    <tr>\n",
       "      <th>2016-12-30</th>\n",
       "      <td>159.120453</td>\n",
       "      <td>159.369019</td>\n",
       "      <td>158.221802</td>\n",
       "      <td>158.690247</td>\n",
       "      <td>112.368294</td>\n",
       "      <td>3088629</td>\n",
       "      <td>1.014102</td>\n",
       "    </tr>\n",
       "  </tbody>\n",
       "</table>\n",
       "</div>"
      ],
      "text/plain": [
       "                  Open        High         Low       Close   Adj Close  \\\n",
       "Date                                                                     \n",
       "2016-12-23  159.655838  160.124283  159.130020  159.378586  112.855698   \n",
       "2016-12-27  159.636703  160.592728  159.512421  159.789673  113.146782   \n",
       "2016-12-28  159.933075  160.363297  158.699814  158.881454  112.503708   \n",
       "2016-12-29  158.718933  159.646271  158.699814  159.273422  112.781265   \n",
       "2016-12-30  159.120453  159.369019  158.221802  158.690247  112.368294   \n",
       "\n",
       "             Volume  Normed Return  \n",
       "Date                                \n",
       "2016-12-23  1779455       1.018501  \n",
       "2016-12-27  1461785       1.021128  \n",
       "2016-12-28  1838345       1.015324  \n",
       "2016-12-29  1740021       1.017829  \n",
       "2016-12-30  3088629       1.014102  "
      ]
     },
     "execution_count": 18,
     "metadata": {},
     "output_type": "execute_result"
    }
   ],
   "source": [
    "ibm.tail()"
   ]
  },
  {
   "cell_type": "code",
   "execution_count": 19,
   "metadata": {},
   "outputs": [
    {
     "data": {
      "text/plain": [
       "Open             1258\n",
       "High             1258\n",
       "Low              1258\n",
       "Close            1258\n",
       "Adj Close        1258\n",
       "Volume           1258\n",
       "Normed Return    1258\n",
       "dtype: int64"
      ]
     },
     "execution_count": 19,
     "metadata": {},
     "output_type": "execute_result"
    }
   ],
   "source": [
    "amzn.count()"
   ]
  },
  {
   "cell_type": "code",
   "execution_count": 20,
   "metadata": {
    "scrolled": true
   },
   "outputs": [
    {
     "data": {
      "text/html": [
       "<div>\n",
       "<style scoped>\n",
       "    .dataframe tbody tr th:only-of-type {\n",
       "        vertical-align: middle;\n",
       "    }\n",
       "\n",
       "    .dataframe tbody tr th {\n",
       "        vertical-align: top;\n",
       "    }\n",
       "\n",
       "    .dataframe thead th {\n",
       "        text-align: right;\n",
       "    }\n",
       "</style>\n",
       "<table border=\"1\" class=\"dataframe\">\n",
       "  <thead>\n",
       "    <tr style=\"text-align: right;\">\n",
       "      <th></th>\n",
       "      <th>Open</th>\n",
       "      <th>High</th>\n",
       "      <th>Low</th>\n",
       "      <th>Close</th>\n",
       "      <th>Adj Close</th>\n",
       "      <th>Volume</th>\n",
       "      <th>Normed Return</th>\n",
       "    </tr>\n",
       "    <tr>\n",
       "      <th>Date</th>\n",
       "      <th></th>\n",
       "      <th></th>\n",
       "      <th></th>\n",
       "      <th></th>\n",
       "      <th></th>\n",
       "      <th></th>\n",
       "      <th></th>\n",
       "    </tr>\n",
       "  </thead>\n",
       "  <tbody>\n",
       "    <tr>\n",
       "      <th>2016-12-23</th>\n",
       "      <td>38.227501</td>\n",
       "      <td>38.325001</td>\n",
       "      <td>37.899502</td>\n",
       "      <td>38.029499</td>\n",
       "      <td>38.029499</td>\n",
       "      <td>39632000</td>\n",
       "      <td>4.248394</td>\n",
       "    </tr>\n",
       "    <tr>\n",
       "      <th>2016-12-27</th>\n",
       "      <td>38.169998</td>\n",
       "      <td>38.732498</td>\n",
       "      <td>38.060001</td>\n",
       "      <td>38.570000</td>\n",
       "      <td>38.570000</td>\n",
       "      <td>52774000</td>\n",
       "      <td>4.308775</td>\n",
       "    </tr>\n",
       "    <tr>\n",
       "      <th>2016-12-28</th>\n",
       "      <td>38.812500</td>\n",
       "      <td>39.000000</td>\n",
       "      <td>38.525002</td>\n",
       "      <td>38.606499</td>\n",
       "      <td>38.606499</td>\n",
       "      <td>66020000</td>\n",
       "      <td>4.312852</td>\n",
       "    </tr>\n",
       "    <tr>\n",
       "      <th>2016-12-29</th>\n",
       "      <td>38.619999</td>\n",
       "      <td>38.669998</td>\n",
       "      <td>38.042500</td>\n",
       "      <td>38.257500</td>\n",
       "      <td>38.257500</td>\n",
       "      <td>63166000</td>\n",
       "      <td>4.273865</td>\n",
       "    </tr>\n",
       "    <tr>\n",
       "      <th>2016-12-30</th>\n",
       "      <td>38.323502</td>\n",
       "      <td>38.369999</td>\n",
       "      <td>37.414001</td>\n",
       "      <td>37.493500</td>\n",
       "      <td>37.493500</td>\n",
       "      <td>82788000</td>\n",
       "      <td>4.188516</td>\n",
       "    </tr>\n",
       "  </tbody>\n",
       "</table>\n",
       "</div>"
      ],
      "text/plain": [
       "                 Open       High        Low      Close  Adj Close    Volume  \\\n",
       "Date                                                                          \n",
       "2016-12-23  38.227501  38.325001  37.899502  38.029499  38.029499  39632000   \n",
       "2016-12-27  38.169998  38.732498  38.060001  38.570000  38.570000  52774000   \n",
       "2016-12-28  38.812500  39.000000  38.525002  38.606499  38.606499  66020000   \n",
       "2016-12-29  38.619999  38.669998  38.042500  38.257500  38.257500  63166000   \n",
       "2016-12-30  38.323502  38.369999  37.414001  37.493500  37.493500  82788000   \n",
       "\n",
       "            Normed Return  \n",
       "Date                       \n",
       "2016-12-23       4.248394  \n",
       "2016-12-27       4.308775  \n",
       "2016-12-28       4.312852  \n",
       "2016-12-29       4.273865  \n",
       "2016-12-30       4.188516  "
      ]
     },
     "execution_count": 20,
     "metadata": {},
     "output_type": "execute_result"
    }
   ],
   "source": [
    "# para ver que a coluna foi acrescentada\n",
    "amzn.tail()"
   ]
  },
  {
   "cell_type": "code",
   "execution_count": 21,
   "metadata": {},
   "outputs": [
    {
     "data": {
      "text/html": [
       "<div>\n",
       "<style scoped>\n",
       "    .dataframe tbody tr th:only-of-type {\n",
       "        vertical-align: middle;\n",
       "    }\n",
       "\n",
       "    .dataframe tbody tr th {\n",
       "        vertical-align: top;\n",
       "    }\n",
       "\n",
       "    .dataframe thead th {\n",
       "        text-align: right;\n",
       "    }\n",
       "</style>\n",
       "<table border=\"1\" class=\"dataframe\">\n",
       "  <thead>\n",
       "    <tr style=\"text-align: right;\">\n",
       "      <th></th>\n",
       "      <th>Open</th>\n",
       "      <th>High</th>\n",
       "      <th>Low</th>\n",
       "      <th>Close</th>\n",
       "      <th>Adj Close</th>\n",
       "      <th>Volume</th>\n",
       "      <th>Normed Return</th>\n",
       "    </tr>\n",
       "    <tr>\n",
       "      <th>Date</th>\n",
       "      <th></th>\n",
       "      <th></th>\n",
       "      <th></th>\n",
       "      <th></th>\n",
       "      <th></th>\n",
       "      <th></th>\n",
       "      <th></th>\n",
       "    </tr>\n",
       "  </thead>\n",
       "  <tbody>\n",
       "    <tr>\n",
       "      <th>2016-12-23</th>\n",
       "      <td>28.897499</td>\n",
       "      <td>29.129999</td>\n",
       "      <td>28.897499</td>\n",
       "      <td>29.129999</td>\n",
       "      <td>27.038567</td>\n",
       "      <td>56998000</td>\n",
       "      <td>2.177547</td>\n",
       "    </tr>\n",
       "    <tr>\n",
       "      <th>2016-12-27</th>\n",
       "      <td>29.129999</td>\n",
       "      <td>29.450001</td>\n",
       "      <td>29.122499</td>\n",
       "      <td>29.315001</td>\n",
       "      <td>27.210285</td>\n",
       "      <td>73187600</td>\n",
       "      <td>2.191376</td>\n",
       "    </tr>\n",
       "    <tr>\n",
       "      <th>2016-12-28</th>\n",
       "      <td>29.379999</td>\n",
       "      <td>29.504999</td>\n",
       "      <td>29.049999</td>\n",
       "      <td>29.190001</td>\n",
       "      <td>27.094257</td>\n",
       "      <td>83623600</td>\n",
       "      <td>2.182032</td>\n",
       "    </tr>\n",
       "    <tr>\n",
       "      <th>2016-12-29</th>\n",
       "      <td>29.112499</td>\n",
       "      <td>29.277500</td>\n",
       "      <td>29.100000</td>\n",
       "      <td>29.182501</td>\n",
       "      <td>27.087297</td>\n",
       "      <td>60158000</td>\n",
       "      <td>2.181471</td>\n",
       "    </tr>\n",
       "    <tr>\n",
       "      <th>2016-12-30</th>\n",
       "      <td>29.162500</td>\n",
       "      <td>29.299999</td>\n",
       "      <td>28.857500</td>\n",
       "      <td>28.955000</td>\n",
       "      <td>26.876127</td>\n",
       "      <td>122345200</td>\n",
       "      <td>2.164465</td>\n",
       "    </tr>\n",
       "  </tbody>\n",
       "</table>\n",
       "</div>"
      ],
      "text/plain": [
       "                 Open       High        Low      Close  Adj Close     Volume  \\\n",
       "Date                                                                           \n",
       "2016-12-23  28.897499  29.129999  28.897499  29.129999  27.038567   56998000   \n",
       "2016-12-27  29.129999  29.450001  29.122499  29.315001  27.210285   73187600   \n",
       "2016-12-28  29.379999  29.504999  29.049999  29.190001  27.094257   83623600   \n",
       "2016-12-29  29.112499  29.277500  29.100000  29.182501  27.087297   60158000   \n",
       "2016-12-30  29.162500  29.299999  28.857500  28.955000  26.876127  122345200   \n",
       "\n",
       "            Normed Return  \n",
       "Date                       \n",
       "2016-12-23       2.177547  \n",
       "2016-12-27       2.191376  \n",
       "2016-12-28       2.182032  \n",
       "2016-12-29       2.181471  \n",
       "2016-12-30       2.164465  "
      ]
     },
     "execution_count": 21,
     "metadata": {},
     "output_type": "execute_result"
    }
   ],
   "source": [
    "aapl.tail()"
   ]
  },
  {
   "cell_type": "markdown",
   "metadata": {},
   "source": [
    "## Allocations\n",
    "\n",
    "Let's pretend we had the following allocations for our total portfolio:\n",
    "\n",
    "* 30% in Apple\n",
    "* 20% in Microsoft\n",
    "* 40% in Amazon\n",
    "* 10% in IBM\n",
    "\n",
    "Let's have these values be reflected by multiplying our Norme Return by out Allocations"
   ]
  },
  {
   "cell_type": "code",
   "execution_count": 23,
   "metadata": {},
   "outputs": [],
   "source": [
    "# Esse loop percorre duas listas ao mesmo tempo usando zip(), que emparelha elementos correspondentes de ambas as listas.\n",
    "for stock_df,allo in zip([aapl,msft,amzn,ibm],[.3,.2,.4,.1]):\n",
    "#for stock_df,allo in zip([aapl,msft,ibm,amzn],[.2619,.2076,.0011,.5294]):\n",
    "    stock_df['Allocation'] = stock_df['Normed Return']*allo"
   ]
  },
  {
   "cell_type": "code",
   "execution_count": 24,
   "metadata": {},
   "outputs": [
    {
     "data": {
      "text/html": [
       "<div>\n",
       "<style scoped>\n",
       "    .dataframe tbody tr th:only-of-type {\n",
       "        vertical-align: middle;\n",
       "    }\n",
       "\n",
       "    .dataframe tbody tr th {\n",
       "        vertical-align: top;\n",
       "    }\n",
       "\n",
       "    .dataframe thead th {\n",
       "        text-align: right;\n",
       "    }\n",
       "</style>\n",
       "<table border=\"1\" class=\"dataframe\">\n",
       "  <thead>\n",
       "    <tr style=\"text-align: right;\">\n",
       "      <th></th>\n",
       "      <th>Open</th>\n",
       "      <th>High</th>\n",
       "      <th>Low</th>\n",
       "      <th>Close</th>\n",
       "      <th>Adj Close</th>\n",
       "      <th>Volume</th>\n",
       "      <th>Normed Return</th>\n",
       "      <th>Allocation</th>\n",
       "    </tr>\n",
       "    <tr>\n",
       "      <th>Date</th>\n",
       "      <th></th>\n",
       "      <th></th>\n",
       "      <th></th>\n",
       "      <th></th>\n",
       "      <th></th>\n",
       "      <th></th>\n",
       "      <th></th>\n",
       "      <th></th>\n",
       "    </tr>\n",
       "  </thead>\n",
       "  <tbody>\n",
       "    <tr>\n",
       "      <th>2012-01-03</th>\n",
       "      <td>14.621429</td>\n",
       "      <td>14.732143</td>\n",
       "      <td>14.607143</td>\n",
       "      <td>14.686786</td>\n",
       "      <td>12.416985</td>\n",
       "      <td>302220800</td>\n",
       "      <td>1.000000</td>\n",
       "      <td>0.300000</td>\n",
       "    </tr>\n",
       "    <tr>\n",
       "      <th>2012-01-04</th>\n",
       "      <td>14.642857</td>\n",
       "      <td>14.810000</td>\n",
       "      <td>14.617143</td>\n",
       "      <td>14.765714</td>\n",
       "      <td>12.483716</td>\n",
       "      <td>260022000</td>\n",
       "      <td>1.005374</td>\n",
       "      <td>0.301612</td>\n",
       "    </tr>\n",
       "    <tr>\n",
       "      <th>2012-01-05</th>\n",
       "      <td>14.819643</td>\n",
       "      <td>14.948214</td>\n",
       "      <td>14.738214</td>\n",
       "      <td>14.929643</td>\n",
       "      <td>12.622305</td>\n",
       "      <td>271269600</td>\n",
       "      <td>1.016535</td>\n",
       "      <td>0.304961</td>\n",
       "    </tr>\n",
       "    <tr>\n",
       "      <th>2012-01-06</th>\n",
       "      <td>14.991786</td>\n",
       "      <td>15.098214</td>\n",
       "      <td>14.972143</td>\n",
       "      <td>15.085714</td>\n",
       "      <td>12.754254</td>\n",
       "      <td>318292800</td>\n",
       "      <td>1.027162</td>\n",
       "      <td>0.308149</td>\n",
       "    </tr>\n",
       "    <tr>\n",
       "      <th>2012-01-09</th>\n",
       "      <td>15.196429</td>\n",
       "      <td>15.276786</td>\n",
       "      <td>15.048214</td>\n",
       "      <td>15.061786</td>\n",
       "      <td>12.734029</td>\n",
       "      <td>394024400</td>\n",
       "      <td>1.025533</td>\n",
       "      <td>0.307660</td>\n",
       "    </tr>\n",
       "  </tbody>\n",
       "</table>\n",
       "</div>"
      ],
      "text/plain": [
       "                 Open       High        Low      Close  Adj Close     Volume  \\\n",
       "Date                                                                           \n",
       "2012-01-03  14.621429  14.732143  14.607143  14.686786  12.416985  302220800   \n",
       "2012-01-04  14.642857  14.810000  14.617143  14.765714  12.483716  260022000   \n",
       "2012-01-05  14.819643  14.948214  14.738214  14.929643  12.622305  271269600   \n",
       "2012-01-06  14.991786  15.098214  14.972143  15.085714  12.754254  318292800   \n",
       "2012-01-09  15.196429  15.276786  15.048214  15.061786  12.734029  394024400   \n",
       "\n",
       "            Normed Return  Allocation  \n",
       "Date                                   \n",
       "2012-01-03       1.000000    0.300000  \n",
       "2012-01-04       1.005374    0.301612  \n",
       "2012-01-05       1.016535    0.304961  \n",
       "2012-01-06       1.027162    0.308149  \n",
       "2012-01-09       1.025533    0.307660  "
      ]
     },
     "execution_count": 24,
     "metadata": {},
     "output_type": "execute_result"
    }
   ],
   "source": [
    "aapl.head()"
   ]
  },
  {
   "cell_type": "markdown",
   "metadata": {},
   "source": [
    "## Investment\n",
    "\n",
    "Let's pretend we invested a million dollars in this portfolio"
   ]
  },
  {
   "cell_type": "code",
   "execution_count": 25,
   "metadata": {},
   "outputs": [],
   "source": [
    "# o capital se distribui de acordo com os pesos. Se os pesos fossem todos iguais a um, seria\n",
    "# como se investir esse valor vezes o número de acoes\n",
    "for stock_df in [aapl,msft,ibm,amzn]:\n",
    "    stock_df['Position Values'] = stock_df['Allocation']*1000000"
   ]
  },
  {
   "cell_type": "markdown",
   "metadata": {},
   "source": [
    "## Total Portfolio Value"
   ]
  },
  {
   "cell_type": "code",
   "execution_count": 26,
   "metadata": {},
   "outputs": [],
   "source": [
    "portfolio_val = round(pd.concat([aapl['Position Values'],msft['Position Values'],ibm['Position Values'],amzn['Position Values']],axis=1),2)"
   ]
  },
  {
   "cell_type": "code",
   "execution_count": 27,
   "metadata": {},
   "outputs": [
    {
     "data": {
      "text/html": [
       "<div>\n",
       "<style scoped>\n",
       "    .dataframe tbody tr th:only-of-type {\n",
       "        vertical-align: middle;\n",
       "    }\n",
       "\n",
       "    .dataframe tbody tr th {\n",
       "        vertical-align: top;\n",
       "    }\n",
       "\n",
       "    .dataframe thead th {\n",
       "        text-align: right;\n",
       "    }\n",
       "</style>\n",
       "<table border=\"1\" class=\"dataframe\">\n",
       "  <thead>\n",
       "    <tr style=\"text-align: right;\">\n",
       "      <th></th>\n",
       "      <th>Position Values</th>\n",
       "      <th>Position Values</th>\n",
       "      <th>Position Values</th>\n",
       "      <th>Position Values</th>\n",
       "    </tr>\n",
       "    <tr>\n",
       "      <th>Date</th>\n",
       "      <th></th>\n",
       "      <th></th>\n",
       "      <th></th>\n",
       "      <th></th>\n",
       "    </tr>\n",
       "  </thead>\n",
       "  <tbody>\n",
       "    <tr>\n",
       "      <th>2012-01-03</th>\n",
       "      <td>300000.00</td>\n",
       "      <td>200000.00</td>\n",
       "      <td>100000.00</td>\n",
       "      <td>400000.00</td>\n",
       "    </tr>\n",
       "    <tr>\n",
       "      <th>2012-01-04</th>\n",
       "      <td>301612.26</td>\n",
       "      <td>204706.75</td>\n",
       "      <td>99592.07</td>\n",
       "      <td>396603.91</td>\n",
       "    </tr>\n",
       "    <tr>\n",
       "      <th>2012-01-05</th>\n",
       "      <td>304960.63</td>\n",
       "      <td>206798.67</td>\n",
       "      <td>99119.72</td>\n",
       "      <td>396827.34</td>\n",
       "    </tr>\n",
       "    <tr>\n",
       "      <th>2012-01-06</th>\n",
       "      <td>308148.59</td>\n",
       "      <td>210011.20</td>\n",
       "      <td>97981.74</td>\n",
       "      <td>407998.66</td>\n",
       "    </tr>\n",
       "    <tr>\n",
       "      <th>2012-01-09</th>\n",
       "      <td>307659.93</td>\n",
       "      <td>207246.90</td>\n",
       "      <td>97471.81</td>\n",
       "      <td>398949.92</td>\n",
       "    </tr>\n",
       "  </tbody>\n",
       "</table>\n",
       "</div>"
      ],
      "text/plain": [
       "            Position Values  Position Values  Position Values  Position Values\n",
       "Date                                                                          \n",
       "2012-01-03        300000.00        200000.00        100000.00        400000.00\n",
       "2012-01-04        301612.26        204706.75         99592.07        396603.91\n",
       "2012-01-05        304960.63        206798.67         99119.72        396827.34\n",
       "2012-01-06        308148.59        210011.20         97981.74        407998.66\n",
       "2012-01-09        307659.93        207246.90         97471.81        398949.92"
      ]
     },
     "execution_count": 27,
     "metadata": {},
     "output_type": "execute_result"
    }
   ],
   "source": [
    "portfolio_val.head()"
   ]
  },
  {
   "cell_type": "code",
   "execution_count": 28,
   "metadata": {},
   "outputs": [],
   "source": [
    "portfolio_val.columns = ['AAPL Pos','MSFT Pos','IBM Pos','AMZN Pos']"
   ]
  },
  {
   "cell_type": "code",
   "execution_count": 29,
   "metadata": {},
   "outputs": [
    {
     "data": {
      "text/html": [
       "<div>\n",
       "<style scoped>\n",
       "    .dataframe tbody tr th:only-of-type {\n",
       "        vertical-align: middle;\n",
       "    }\n",
       "\n",
       "    .dataframe tbody tr th {\n",
       "        vertical-align: top;\n",
       "    }\n",
       "\n",
       "    .dataframe thead th {\n",
       "        text-align: right;\n",
       "    }\n",
       "</style>\n",
       "<table border=\"1\" class=\"dataframe\">\n",
       "  <thead>\n",
       "    <tr style=\"text-align: right;\">\n",
       "      <th></th>\n",
       "      <th>AAPL Pos</th>\n",
       "      <th>MSFT Pos</th>\n",
       "      <th>IBM Pos</th>\n",
       "      <th>AMZN Pos</th>\n",
       "    </tr>\n",
       "    <tr>\n",
       "      <th>Date</th>\n",
       "      <th></th>\n",
       "      <th></th>\n",
       "      <th></th>\n",
       "      <th></th>\n",
       "    </tr>\n",
       "  </thead>\n",
       "  <tbody>\n",
       "    <tr>\n",
       "      <th>2012-01-03</th>\n",
       "      <td>300000.00</td>\n",
       "      <td>200000.00</td>\n",
       "      <td>100000.00</td>\n",
       "      <td>400000.00</td>\n",
       "    </tr>\n",
       "    <tr>\n",
       "      <th>2012-01-04</th>\n",
       "      <td>301612.26</td>\n",
       "      <td>204706.75</td>\n",
       "      <td>99592.07</td>\n",
       "      <td>396603.91</td>\n",
       "    </tr>\n",
       "    <tr>\n",
       "      <th>2012-01-05</th>\n",
       "      <td>304960.63</td>\n",
       "      <td>206798.67</td>\n",
       "      <td>99119.72</td>\n",
       "      <td>396827.34</td>\n",
       "    </tr>\n",
       "    <tr>\n",
       "      <th>2012-01-06</th>\n",
       "      <td>308148.59</td>\n",
       "      <td>210011.20</td>\n",
       "      <td>97981.74</td>\n",
       "      <td>407998.66</td>\n",
       "    </tr>\n",
       "    <tr>\n",
       "      <th>2012-01-09</th>\n",
       "      <td>307659.93</td>\n",
       "      <td>207246.90</td>\n",
       "      <td>97471.81</td>\n",
       "      <td>398949.92</td>\n",
       "    </tr>\n",
       "  </tbody>\n",
       "</table>\n",
       "</div>"
      ],
      "text/plain": [
       "             AAPL Pos   MSFT Pos    IBM Pos   AMZN Pos\n",
       "Date                                                  \n",
       "2012-01-03  300000.00  200000.00  100000.00  400000.00\n",
       "2012-01-04  301612.26  204706.75   99592.07  396603.91\n",
       "2012-01-05  304960.63  206798.67   99119.72  396827.34\n",
       "2012-01-06  308148.59  210011.20   97981.74  407998.66\n",
       "2012-01-09  307659.93  207246.90   97471.81  398949.92"
      ]
     },
     "execution_count": 29,
     "metadata": {},
     "output_type": "execute_result"
    }
   ],
   "source": [
    "portfolio_val.head()"
   ]
  },
  {
   "cell_type": "code",
   "execution_count": 30,
   "metadata": {},
   "outputs": [],
   "source": [
    "portfolio_val['Total Pos'] = portfolio_val.sum(axis=1)"
   ]
  },
  {
   "cell_type": "code",
   "execution_count": 31,
   "metadata": {},
   "outputs": [
    {
     "data": {
      "text/html": [
       "<div>\n",
       "<style scoped>\n",
       "    .dataframe tbody tr th:only-of-type {\n",
       "        vertical-align: middle;\n",
       "    }\n",
       "\n",
       "    .dataframe tbody tr th {\n",
       "        vertical-align: top;\n",
       "    }\n",
       "\n",
       "    .dataframe thead th {\n",
       "        text-align: right;\n",
       "    }\n",
       "</style>\n",
       "<table border=\"1\" class=\"dataframe\">\n",
       "  <thead>\n",
       "    <tr style=\"text-align: right;\">\n",
       "      <th></th>\n",
       "      <th>AAPL Pos</th>\n",
       "      <th>MSFT Pos</th>\n",
       "      <th>IBM Pos</th>\n",
       "      <th>AMZN Pos</th>\n",
       "      <th>Total Pos</th>\n",
       "    </tr>\n",
       "    <tr>\n",
       "      <th>Date</th>\n",
       "      <th></th>\n",
       "      <th></th>\n",
       "      <th></th>\n",
       "      <th></th>\n",
       "      <th></th>\n",
       "    </tr>\n",
       "  </thead>\n",
       "  <tbody>\n",
       "    <tr>\n",
       "      <th>2012-01-03</th>\n",
       "      <td>300000.00</td>\n",
       "      <td>200000.00</td>\n",
       "      <td>100000.00</td>\n",
       "      <td>400000.00</td>\n",
       "      <td>1000000.00</td>\n",
       "    </tr>\n",
       "    <tr>\n",
       "      <th>2012-01-04</th>\n",
       "      <td>301612.26</td>\n",
       "      <td>204706.75</td>\n",
       "      <td>99592.07</td>\n",
       "      <td>396603.91</td>\n",
       "      <td>1002514.99</td>\n",
       "    </tr>\n",
       "    <tr>\n",
       "      <th>2012-01-05</th>\n",
       "      <td>304960.63</td>\n",
       "      <td>206798.67</td>\n",
       "      <td>99119.72</td>\n",
       "      <td>396827.34</td>\n",
       "      <td>1007706.36</td>\n",
       "    </tr>\n",
       "    <tr>\n",
       "      <th>2012-01-06</th>\n",
       "      <td>308148.59</td>\n",
       "      <td>210011.20</td>\n",
       "      <td>97981.74</td>\n",
       "      <td>407998.66</td>\n",
       "      <td>1024140.19</td>\n",
       "    </tr>\n",
       "    <tr>\n",
       "      <th>2012-01-09</th>\n",
       "      <td>307659.93</td>\n",
       "      <td>207246.90</td>\n",
       "      <td>97471.81</td>\n",
       "      <td>398949.92</td>\n",
       "      <td>1011328.56</td>\n",
       "    </tr>\n",
       "  </tbody>\n",
       "</table>\n",
       "</div>"
      ],
      "text/plain": [
       "             AAPL Pos   MSFT Pos    IBM Pos   AMZN Pos   Total Pos\n",
       "Date                                                              \n",
       "2012-01-03  300000.00  200000.00  100000.00  400000.00  1000000.00\n",
       "2012-01-04  301612.26  204706.75   99592.07  396603.91  1002514.99\n",
       "2012-01-05  304960.63  206798.67   99119.72  396827.34  1007706.36\n",
       "2012-01-06  308148.59  210011.20   97981.74  407998.66  1024140.19\n",
       "2012-01-09  307659.93  207246.90   97471.81  398949.92  1011328.56"
      ]
     },
     "execution_count": 31,
     "metadata": {},
     "output_type": "execute_result"
    }
   ],
   "source": [
    "portfolio_val.head()"
   ]
  },
  {
   "cell_type": "code",
   "execution_count": 32,
   "metadata": {},
   "outputs": [],
   "source": [
    "import matplotlib.pyplot as plt\n",
    "%matplotlib inline"
   ]
  },
  {
   "cell_type": "code",
   "execution_count": 33,
   "metadata": {},
   "outputs": [
    {
     "data": {
      "text/plain": [
       "Text(0.5, 1.0, 'Total Portfolio Value')"
      ]
     },
     "execution_count": 33,
     "metadata": {},
     "output_type": "execute_result"
    },
    {
     "data": {
      "image/png": "[encoded data removed]",
      "text/plain": [
       "<Figure size 1000x800 with 1 Axes>"
      ]
     },
     "metadata": {},
     "output_type": "display_data"
    }
   ],
   "source": [
    "portfolio_val['Total Pos'].plot(figsize=(10,8))\n",
    "plt.title('Total Portfolio Value')"
   ]
  },
  {
   "cell_type": "code",
   "execution_count": 34,
   "metadata": {},
   "outputs": [
    {
     "data": {
      "image/png": "[encoded data removed]",
      "text/plain": [
       "<Figure size 1000x800 with 1 Axes>"
      ]
     },
     "metadata": {},
     "output_type": "display_data"
    }
   ],
   "source": [
    "# Cálculo do DD. Fazer\n",
    "# https://quant.stackexchange.com/questions/18094/how-can-i-calculate-the-maximum-drawdown-mdd-in-python\n",
    "Roll_Max =       portfolio_val['Total Pos'].cummax()\n",
    "Daily_Drawdown = portfolio_val['Total Pos']/Roll_Max - 1.0\n",
    "Max_Daily_Drawdown = Daily_Drawdown.cummin()\n",
    "# Plot the results\n",
    "Daily_Drawdown.plot(figsize=(10,8))\n",
    "Max_Daily_Drawdown.plot()\n",
    "# Add red dot for max SR\n",
    "#Max_Daily_Drawdown.plot(Max_Daily_Drawdown.idxmin(),Max_Daily_Drawdown.min(),c='red',s=50,edgecolors='black')\n",
    "plt.show()\n"
   ]
  },
  {
   "cell_type": "code",
   "execution_count": 35,
   "metadata": {},
   "outputs": [
    {
     "name": "stdout",
     "output_type": "stream",
     "text": [
      "Máximo drawdown AAPL:\n",
      "-43.8\n",
      "Data do MDD AAPL:\n",
      "2013-04-19 00:00:00\n",
      "Máximo drawdown MSFT:\n",
      "-18.05\n",
      "Data do MDD MSFT:\n",
      "2015-01-30 00:00:00\n",
      "Máximo drawdown IBM:\n",
      "-40.76\n",
      "Data do MDD IBM:\n",
      "2016-02-11 00:00:00\n",
      "Máximo drawdown AMZN:\n",
      "-30.53\n",
      "Data do MDD AMZN:\n",
      "2016-02-09 00:00:00\n",
      "\n",
      "Máximo drawdown Port:\n",
      "-22.99\n",
      "Data do MDD Port:\n",
      "2016-02-09 00:00:00\n"
     ]
    }
   ],
   "source": [
    "# AAPL Pos \tMSFT Pos \tIBM Pos \tAMZN Pos \tTotal Pos. Cálculo do Maximo DD e respectiva data.\n",
    "Roll_Max_AAPL =       portfolio_val['AAPL Pos'].cummax()\n",
    "Daily_Drawdown_AAPL = portfolio_val['AAPL Pos']/Roll_Max_AAPL - 1.0\n",
    "Max_Daily_Drawdown_AAPL = Daily_Drawdown_AAPL.cummin()\n",
    "print('Máximo drawdown AAPL:')\n",
    "print(round(100*Max_Daily_Drawdown_AAPL.min(),2))\n",
    "print('Data do MDD AAPL:')\n",
    "print(Max_Daily_Drawdown_AAPL.idxmin())\n",
    "# AAPL Pos \tMSFT Pos \tIBM Pos \tAMZN Pos \tTotal Pos\n",
    "Roll_Max_MSFT =       portfolio_val['MSFT Pos'].cummax()\n",
    "Daily_Drawdown_MSFT = portfolio_val['MSFT Pos']/Roll_Max_MSFT - 1.0\n",
    "Max_Daily_Drawdown_MSFT = Daily_Drawdown_MSFT.cummin()\n",
    "print('Máximo drawdown MSFT:')\n",
    "print(round(100*Max_Daily_Drawdown_MSFT.min(),2))\n",
    "print('Data do MDD MSFT:')\n",
    "print(Max_Daily_Drawdown_MSFT.idxmin())\n",
    "# AAPL Pos \tMSFT Pos \tIBM Pos \tAMZN Pos \tTotal Pos\n",
    "Roll_Max_IBM =       portfolio_val['IBM Pos'].cummax()\n",
    "Daily_Drawdown_IBM = portfolio_val['IBM Pos']/Roll_Max_IBM - 1.0\n",
    "Max_Daily_Drawdown_IBM = Daily_Drawdown_IBM.cummin()\n",
    "print('Máximo drawdown IBM:')\n",
    "print(round(100*Max_Daily_Drawdown_IBM.min(),2))\n",
    "print('Data do MDD IBM:')\n",
    "print(Max_Daily_Drawdown_IBM.idxmin())\n",
    "# AAPL Pos \tCISCO Pos \tIBM Pos \tAMZN Pos \tTotal Pos\n",
    "Roll_Max_AMZN =       portfolio_val['AMZN Pos'].cummax()\n",
    "Daily_Drawdown_AMZN = portfolio_val['AMZN Pos']/Roll_Max_AMZN - 1.0\n",
    "Max_Daily_Drawdown_AMZN = Daily_Drawdown_AMZN.cummin()\n",
    "print('Máximo drawdown AMZN:')\n",
    "print(round(100*Max_Daily_Drawdown_AMZN.min(),2))\n",
    "print('Data do MDD AMZN:')\n",
    "print(Max_Daily_Drawdown_AMZN.idxmin())\n",
    "print('')\n",
    "print('Máximo drawdown Port:')\n",
    "print(round(100*Max_Daily_Drawdown.min(),2))\n",
    "print('Data do MDD Port:')\n",
    "print(Max_Daily_Drawdown.idxmin())\n"
   ]
  },
  {
   "cell_type": "code",
   "execution_count": 36,
   "metadata": {},
   "outputs": [
    {
     "data": {
      "text/plain": [
       "<Axes: xlabel='Date'>"
      ]
     },
     "execution_count": 36,
     "metadata": {},
     "output_type": "execute_result"
    },
    {
     "data": {
      "image/png": "[encoded data removed]",
      "text/plain": [
       "<Figure size 1200x800 with 1 Axes>"
      ]
     },
     "metadata": {},
     "output_type": "display_data"
    }
   ],
   "source": [
    "# separando a coluna Total Pos e fazendo o gráfico\n",
    "portfolio_val.drop('Total Pos',axis=1).plot(kind='line', figsize=(12,8))"
   ]
  },
  {
   "cell_type": "code",
   "execution_count": 37,
   "metadata": {
    "scrolled": true
   },
   "outputs": [
    {
     "data": {
      "text/html": [
       "<div>\n",
       "<style scoped>\n",
       "    .dataframe tbody tr th:only-of-type {\n",
       "        vertical-align: middle;\n",
       "    }\n",
       "\n",
       "    .dataframe tbody tr th {\n",
       "        vertical-align: top;\n",
       "    }\n",
       "\n",
       "    .dataframe thead th {\n",
       "        text-align: right;\n",
       "    }\n",
       "</style>\n",
       "<table border=\"1\" class=\"dataframe\">\n",
       "  <thead>\n",
       "    <tr style=\"text-align: right;\">\n",
       "      <th></th>\n",
       "      <th>AAPL Pos</th>\n",
       "      <th>MSFT Pos</th>\n",
       "      <th>IBM Pos</th>\n",
       "      <th>AMZN Pos</th>\n",
       "      <th>Total Pos</th>\n",
       "    </tr>\n",
       "    <tr>\n",
       "      <th>Date</th>\n",
       "      <th></th>\n",
       "      <th></th>\n",
       "      <th></th>\n",
       "      <th></th>\n",
       "      <th></th>\n",
       "    </tr>\n",
       "  </thead>\n",
       "  <tbody>\n",
       "    <tr>\n",
       "      <th>2012-01-03</th>\n",
       "      <td>300000.00</td>\n",
       "      <td>200000.00</td>\n",
       "      <td>100000.00</td>\n",
       "      <td>400000.00</td>\n",
       "      <td>1000000.00</td>\n",
       "    </tr>\n",
       "    <tr>\n",
       "      <th>2012-01-04</th>\n",
       "      <td>301612.26</td>\n",
       "      <td>204706.75</td>\n",
       "      <td>99592.07</td>\n",
       "      <td>396603.91</td>\n",
       "      <td>1002514.99</td>\n",
       "    </tr>\n",
       "    <tr>\n",
       "      <th>2012-01-05</th>\n",
       "      <td>304960.63</td>\n",
       "      <td>206798.67</td>\n",
       "      <td>99119.72</td>\n",
       "      <td>396827.34</td>\n",
       "      <td>1007706.36</td>\n",
       "    </tr>\n",
       "    <tr>\n",
       "      <th>2012-01-06</th>\n",
       "      <td>308148.59</td>\n",
       "      <td>210011.20</td>\n",
       "      <td>97981.74</td>\n",
       "      <td>407998.66</td>\n",
       "      <td>1024140.19</td>\n",
       "    </tr>\n",
       "    <tr>\n",
       "      <th>2012-01-09</th>\n",
       "      <td>307659.93</td>\n",
       "      <td>207246.90</td>\n",
       "      <td>97471.81</td>\n",
       "      <td>398949.92</td>\n",
       "      <td>1011328.56</td>\n",
       "    </tr>\n",
       "  </tbody>\n",
       "</table>\n",
       "</div>"
      ],
      "text/plain": [
       "             AAPL Pos   MSFT Pos    IBM Pos   AMZN Pos   Total Pos\n",
       "Date                                                              \n",
       "2012-01-03  300000.00  200000.00  100000.00  400000.00  1000000.00\n",
       "2012-01-04  301612.26  204706.75   99592.07  396603.91  1002514.99\n",
       "2012-01-05  304960.63  206798.67   99119.72  396827.34  1007706.36\n",
       "2012-01-06  308148.59  210011.20   97981.74  407998.66  1024140.19\n",
       "2012-01-09  307659.93  207246.90   97471.81  398949.92  1011328.56"
      ]
     },
     "execution_count": 37,
     "metadata": {},
     "output_type": "execute_result"
    }
   ],
   "source": [
    "portfolio_val.head()"
   ]
  },
  {
   "cell_type": "code",
   "execution_count": 38,
   "metadata": {},
   "outputs": [
    {
     "data": {
      "text/html": [
       "<div>\n",
       "<style scoped>\n",
       "    .dataframe tbody tr th:only-of-type {\n",
       "        vertical-align: middle;\n",
       "    }\n",
       "\n",
       "    .dataframe tbody tr th {\n",
       "        vertical-align: top;\n",
       "    }\n",
       "\n",
       "    .dataframe thead th {\n",
       "        text-align: right;\n",
       "    }\n",
       "</style>\n",
       "<table border=\"1\" class=\"dataframe\">\n",
       "  <thead>\n",
       "    <tr style=\"text-align: right;\">\n",
       "      <th></th>\n",
       "      <th>AAPL Pos</th>\n",
       "      <th>MSFT Pos</th>\n",
       "      <th>IBM Pos</th>\n",
       "      <th>AMZN Pos</th>\n",
       "      <th>Total Pos</th>\n",
       "    </tr>\n",
       "    <tr>\n",
       "      <th>Date</th>\n",
       "      <th></th>\n",
       "      <th></th>\n",
       "      <th></th>\n",
       "      <th></th>\n",
       "      <th></th>\n",
       "    </tr>\n",
       "  </thead>\n",
       "  <tbody>\n",
       "    <tr>\n",
       "      <th>2016-12-23</th>\n",
       "      <td>653264.08</td>\n",
       "      <td>542732.09</td>\n",
       "      <td>101850.09</td>\n",
       "      <td>1699357.62</td>\n",
       "      <td>2997203.88</td>\n",
       "    </tr>\n",
       "    <tr>\n",
       "      <th>2016-12-27</th>\n",
       "      <td>657412.88</td>\n",
       "      <td>543075.37</td>\n",
       "      <td>102112.79</td>\n",
       "      <td>1723510.02</td>\n",
       "      <td>3026111.06</td>\n",
       "    </tr>\n",
       "    <tr>\n",
       "      <th>2016-12-28</th>\n",
       "      <td>654609.59</td>\n",
       "      <td>540586.70</td>\n",
       "      <td>101532.42</td>\n",
       "      <td>1725140.99</td>\n",
       "      <td>3021869.70</td>\n",
       "    </tr>\n",
       "    <tr>\n",
       "      <th>2016-12-29</th>\n",
       "      <td>654441.44</td>\n",
       "      <td>539814.20</td>\n",
       "      <td>101782.91</td>\n",
       "      <td>1709545.88</td>\n",
       "      <td>3005584.43</td>\n",
       "    </tr>\n",
       "    <tr>\n",
       "      <th>2016-12-30</th>\n",
       "      <td>649339.47</td>\n",
       "      <td>533291.77</td>\n",
       "      <td>101410.22</td>\n",
       "      <td>1675406.36</td>\n",
       "      <td>2959447.82</td>\n",
       "    </tr>\n",
       "  </tbody>\n",
       "</table>\n",
       "</div>"
      ],
      "text/plain": [
       "             AAPL Pos   MSFT Pos    IBM Pos    AMZN Pos   Total Pos\n",
       "Date                                                               \n",
       "2016-12-23  653264.08  542732.09  101850.09  1699357.62  2997203.88\n",
       "2016-12-27  657412.88  543075.37  102112.79  1723510.02  3026111.06\n",
       "2016-12-28  654609.59  540586.70  101532.42  1725140.99  3021869.70\n",
       "2016-12-29  654441.44  539814.20  101782.91  1709545.88  3005584.43\n",
       "2016-12-30  649339.47  533291.77  101410.22  1675406.36  2959447.82"
      ]
     },
     "execution_count": 38,
     "metadata": {},
     "output_type": "execute_result"
    }
   ],
   "source": [
    "portfolio_val.tail()"
   ]
  },
  {
   "cell_type": "markdown",
   "metadata": {},
   "source": [
    "# Portfolio Statistics\n",
    "### Daily Returns"
   ]
  },
  {
   "cell_type": "code",
   "execution_count": 39,
   "metadata": {
    "scrolled": true
   },
   "outputs": [
    {
     "data": {
      "text/plain": [
       "Date\n",
       "2012-01-03         NaN\n",
       "2012-01-04    0.002515\n",
       "2012-01-05    0.005178\n",
       "2012-01-06    0.016308\n",
       "2012-01-09   -0.012510\n",
       "Name: Daily Return, dtype: float64"
      ]
     },
     "execution_count": 39,
     "metadata": {},
     "output_type": "execute_result"
    }
   ],
   "source": [
    "portfolio_val['Daily Return'] = portfolio_val['Total Pos'].pct_change(1)\n",
    "portfolio_val['Daily Return'].head()"
   ]
  },
  {
   "cell_type": "markdown",
   "metadata": {},
   "source": [
    "### Cumulative Return"
   ]
  },
  {
   "cell_type": "code",
   "execution_count": 40,
   "metadata": {},
   "outputs": [
    {
     "data": {
      "text/plain": [
       "2959447.8200000003"
      ]
     },
     "execution_count": 40,
     "metadata": {},
     "output_type": "execute_result"
    }
   ],
   "source": [
    "# última posição\n",
    "portfolio_val.iloc[-1]['Total Pos']"
   ]
  },
  {
   "cell_type": "code",
   "execution_count": 41,
   "metadata": {},
   "outputs": [
    {
     "data": {
      "text/plain": [
       "1000000.0"
      ]
     },
     "execution_count": 41,
     "metadata": {},
     "output_type": "execute_result"
    }
   ],
   "source": [
    "# primeira posição\n",
    "portfolio_val.iloc[0]['Total Pos']"
   ]
  },
  {
   "cell_type": "markdown",
   "metadata": {},
   "source": [
    "* lembrando que retorno = (Pt/Pt-1) -1 então o retorno total será = (Pfinal / Pinicial) - 1"
   ]
  },
  {
   "cell_type": "code",
   "execution_count": 42,
   "metadata": {},
   "outputs": [
    {
     "name": "stdout",
     "output_type": "stream",
     "text": [
      "Our return  was 195.94 percent!\n"
     ]
    }
   ],
   "source": [
    "# aqui, além de cumulativo, refere-se a todo o período.\n",
    "cum_ret = round(100 * (portfolio_val.iloc[-1]['Total Pos']/portfolio_val.iloc[0]['Total Pos'] -1 ),2)\n",
    "print('Our return  was {} percent!'.format(cum_ret))"
   ]
  },
  {
   "cell_type": "markdown",
   "metadata": {},
   "source": [
    "### Avg Daily Return"
   ]
  },
  {
   "cell_type": "code",
   "execution_count": 43,
   "metadata": {},
   "outputs": [
    {
     "data": {
      "text/plain": [
       "0.00095"
      ]
     },
     "execution_count": 43,
     "metadata": {},
     "output_type": "execute_result"
    }
   ],
   "source": [
    "# variação diária da soma das alocações das quatro ações. Coluna Total Pos\n",
    "round(portfolio_val['Daily Return'].mean(),5)"
   ]
  },
  {
   "cell_type": "markdown",
   "metadata": {},
   "source": [
    "### Std Daily Return"
   ]
  },
  {
   "cell_type": "code",
   "execution_count": 44,
   "metadata": {},
   "outputs": [
    {
     "data": {
      "text/plain": [
       "0.0129"
      ]
     },
     "execution_count": 44,
     "metadata": {},
     "output_type": "execute_result"
    }
   ],
   "source": [
    "round(portfolio_val['Daily Return'].std(),4)"
   ]
  },
  {
   "cell_type": "code",
   "execution_count": 45,
   "metadata": {},
   "outputs": [
    {
     "data": {
      "text/plain": [
       "<Axes: ylabel='Density'>"
      ]
     },
     "execution_count": 45,
     "metadata": {},
     "output_type": "execute_result"
    },
    {
     "data": {
      "image/png": "[encoded data removed]",
      "text/plain": [
       "<Figure size 640x480 with 1 Axes>"
      ]
     },
     "metadata": {},
     "output_type": "display_data"
    }
   ],
   "source": [
    "portfolio_val['Daily Return'].plot(kind='kde')"
   ]
  },
  {
   "cell_type": "markdown",
   "metadata": {},
   "source": [
    "# Sharpe Ratio\n",
    "\n",
    "The Sharpe Ratio is a measure for calculating risk-adjusted return, and this ratio has become the industry standard for such calculations. \n",
    "\n",
    "Sharpe ratio = (Mean portfolio return − Risk-free rate)/Standard deviation of portfolio return\n",
    "\n",
    "The original Sharpe Ratio\n",
    "\n",
    "Annualized Sharpe Ratio = K-value * SR\n",
    "\n",
    "K-values for various sampling rates:\n",
    "\n",
    "* Daily = sqrt(252)\n",
    "* Weekly = sqrt(52)\n",
    "* Monthly = sqrt(12)\n",
    "\n",
    "\n",
    "Read more: Sharpe Ratio http://www.investopedia.com/terms/s/sharperatio"
   ]
  },
  {
   "cell_type": "code",
   "execution_count": 46,
   "metadata": {},
   "outputs": [],
   "source": [
    "SR = round(portfolio_val['Daily Return'].mean()/portfolio_val['Daily Return'].std(),3)\n"
   ]
  },
  {
   "cell_type": "code",
   "execution_count": 48,
   "metadata": {},
   "outputs": [
    {
     "data": {
      "text/plain": [
       "0.073"
      ]
     },
     "execution_count": 48,
     "metadata": {},
     "output_type": "execute_result"
    }
   ],
   "source": [
    "SR"
   ]
  },
  {
   "cell_type": "code",
   "execution_count": 49,
   "metadata": {},
   "outputs": [],
   "source": [
    "# Annualized Sharpe Ratio = K-value * SR\n",
    "ASR = round((252**0.5)*SR,3)"
   ]
  },
  {
   "cell_type": "code",
   "execution_count": 50,
   "metadata": {},
   "outputs": [
    {
     "data": {
      "text/plain": [
       "1.159"
      ]
     },
     "execution_count": 50,
     "metadata": {},
     "output_type": "execute_result"
    }
   ],
   "source": [
    "ASR"
   ]
  },
  {
   "cell_type": "code",
   "execution_count": 54,
   "metadata": {},
   "outputs": [
    {
     "data": {
      "text/plain": [
       "<Axes: ylabel='Density'>"
      ]
     },
     "execution_count": 54,
     "metadata": {},
     "output_type": "execute_result"
    },
    {
     "data": {
      "image/png": "[encoded data removed]",
      "text/plain": [
       "<Figure size 640x480 with 1 Axes>"
      ]
     },
     "metadata": {},
     "output_type": "display_data"
    }
   ],
   "source": [
    "aapl['Adj Close'].pct_change(1).plot(kind='kde')\n",
    "ibm['Adj Close'].pct_change(1).plot(kind='kde')\n",
    "amzn['Adj Close'].pct_change(1).plot(kind='kde')\n",
    "msft['Adj Close'].pct_change(1).plot(kind='kde')"
   ]
  },
  {
   "cell_type": "code",
   "execution_count": null,
   "metadata": {},
   "outputs": [],
   "source": []
  },
  {
   "cell_type": "code",
   "execution_count": null,
   "metadata": {},
   "outputs": [],
   "source": []
  },
  {
   "cell_type": "code",
   "execution_count": null,
   "metadata": {},
   "outputs": [],
   "source": []
  }
 ],
 "metadata": {
  "kernelspec": {
   "display_name": "Python 3 (ipykernel)",
   "language": "python",
   "name": "python3"
  },
  "language_info": {
   "codemirror_mode": {
    "name": "ipython",
    "version": 3
   },
   "file_extension": ".py",
   "mimetype": "text/x-python",
   "name": "python",
   "nbconvert_exporter": "python",
   "pygments_lexer": "ipython3",
   "version": "3.11.7"
  }
 },
 "nbformat": 4,
 "nbformat_minor": 4
}
