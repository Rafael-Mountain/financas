{
 "cells": [
  {
   "cell_type": "code",
   "execution_count": null,
   "metadata": {},
   "outputs": [],
   "source": [
    "import pandas as pd\n",
    "# porque parse_dates=True ? caso contrário, a ordenação não funciona corretamente.\n",
    "# myfxbook salva csv com as datas em ordem decrescente, começa pela mais recente\n",
    "robo = pd.read_csv('Dados2.csv', sep=';', index_col='Open Date', parse_dates=True)\n",
    "robo = robo[::-1]\n",
    "robo.head()\n"
   ]
  },
  {
   "cell_type": "code",
   "execution_count": null,
   "metadata": {},
   "outputs": [
    {
     "data": {
      "text/plain": [
       "Open Date\n",
       "NaT                       NaN\n",
       "2011-05-10 14:45:00    USDJPY\n",
       "2011-05-10 23:15:00    USDCHF\n",
       "2011-05-11 05:15:00    USDCHF\n",
       "2011-05-11 17:00:00    GBPUSD\n",
       "                        ...  \n",
       "2013-06-27 20:48:00    GBPUSD\n",
       "2013-06-28 05:30:00    GBPUSD\n",
       "2013-06-28 15:15:00    USDJPY\n",
       "2013-06-28 22:00:00    GBPUSD\n",
       "2013-07-01 04:31:00    AUDUSD\n",
       "Name: Symbol, Length: 1841, dtype: object"
      ]
     },
     "execution_count": 22,
     "metadata": {},
     "output_type": "execute_result"
    }
   ],
   "source": []
  }
 ],
 "metadata": {
  "kernelspec": {
   "display_name": ".venv",
   "language": "python",
   "name": "python3"
  },
  "language_info": {
   "codemirror_mode": {
    "name": "ipython",
    "version": 3
   },
   "file_extension": ".py",
   "mimetype": "text/x-python",
   "name": "python",
   "nbconvert_exporter": "python",
   "pygments_lexer": "ipython3",
   "version": "3.12.2"
  }
 },
 "nbformat": 4,
 "nbformat_minor": 4
}
