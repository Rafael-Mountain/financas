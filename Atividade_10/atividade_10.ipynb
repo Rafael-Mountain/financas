{
 "cells": [
  {
   "cell_type": "code",
   "execution_count": null,
   "id": "7f1da6a2",
   "metadata": {},
   "outputs": [],
   "source": [
    "# Estratégia de Pair Trading com GLD e IAU (ETFs de ouro)\n",
    "import yfinance as yf\n",
    "import pandas as pd\n",
    "import numpy as np\n",
    "import matplotlib.pyplot as plt\n",
    "from statsmodels.tsa.stattools import coint\n",
    "from scipy.stats import zscore"
   ]
  },
  {
   "cell_type": "code",
   "execution_count": null,
   "id": "fe51a40e",
   "metadata": {},
   "outputs": [
    {
     "name": "stderr",
     "output_type": "stream",
     "text": [
      "C:\\Users\\Usuário\\AppData\\Local\\Temp\\ipykernel_10072\\2731993309.py:5: FutureWarning: YF.download() has changed argument auto_adjust default to True\n",
      "  df = yf.download(tickers, start=start, end=end)['Close'].dropna()\n",
      "[*********************100%***********************]  2 of 2 completed\n"
     ]
    }
   ],
   "source": [
    "# 1. Coleta de dados - 5 anos de histórico\n",
    "tickers = ['GLD', 'IAU']\n",
    "start = '2019-07-01'\n",
    "end = '2024-07-01'\n",
    "df = yf.download(tickers, start=start, end=end)['Adj Close'].dropna()"
   ]
  },
  {
   "cell_type": "code",
   "execution_count": null,
   "id": "60db309f",
   "metadata": {},
   "outputs": [
    {
     "name": "stdout",
     "output_type": "stream",
     "text": [
      "P-valor do teste de cointegração: 0.2878\n",
      "Os ativos não são cointegrados — atenção!\n"
     ]
    }
   ],
   "source": [
    "# 2. Teste de cointegração (Engle-Granger)\n",
    "score, pvalue, _ = coint(df['GLD'], df['IAU'])\n",
    "print(f\"P-valor da cointegração: {pvalue:.4f}\")\n",
    "if pvalue < 0.05:\n",
    "    print(\"Os ativos são cointegrados — válido para Pair Trading\")\n",
    "else:\n",
    "    print(\" Os ativos não são cointegrados — cuidado!\")"
   ]
  },
  {
   "cell_type": "code",
   "execution_count": null,
   "id": "452bbb80",
   "metadata": {},
   "outputs": [],
   "source": [
    "# 3. Calcular spread e Z-score\n",
    "spread = df['GLD'] - df['IAU']\n",
    "zscore_spread = zscore(spread)"
   ]
  },
  {
   "cell_type": "code",
   "execution_count": null,
   "id": "481ed2ca",
   "metadata": {},
   "outputs": [],
   "source": [
    "# 4. Estratégia de negociação (baseada no Z-score do spread)\n",
    "entry_z = 1.0     # Entrada quando zscore > 1 ou < -1\n",
    "exit_z = 0.0      # Saída quando zscore ≈ 0\n",
    "\n",
    "signals = pd.DataFrame(index=df.index)\n",
    "signals['Z-Score'] = zscore_spread\n",
    "signals['Position_GLD'] = 0\n",
    "signals['Position_IAU'] = 0"
   ]
  },
  {
   "cell_type": "code",
   "execution_count": null,
   "id": "d6208385",
   "metadata": {},
   "outputs": [],
   "source": [
    "# Sinais de entrada e saída\n",
    "signals.loc[signals['Z-Score'] > entry_z, ['Position_GLD', 'Position_IAU']] = [-1, 1]  # Vende GLD, compra IAU\n",
    "signals.loc[signals['Z-Score'] < -entry_z, ['Position_GLD', 'Position_IAU']] = [1, -1]  # Compra GLD, vende IAU\n",
    "signals.loc[abs(signals['Z-Score']) < exit_z, ['Position_GLD', 'Position_IAU']] = [0, 0]  # Zera posições\n",
    "\n",
    "# Preencher posições ao longo do tempo\n",
    "signals.fillna(method='ffill', inplace=True)"
   ]
  },
  {
   "cell_type": "code",
   "execution_count": null,
   "id": "9dd42124",
   "metadata": {},
   "outputs": [
    {
     "name": "stderr",
     "output_type": "stream",
     "text": [
      "C:\\Users\\Usuário\\AppData\\Local\\Temp\\ipykernel_10072\\146003827.py:6: RuntimeWarning: invalid value encountered in scalar divide\n",
      "  sharpe = np.mean(returns) / np.std(returns) * np.sqrt(252)\n"
     ]
    }
   ],
   "source": [
    "# 5. Cálculo dos retornos da estratégia\n",
    "returns = (signals[['Position_GLD', 'Position_IAU']].shift(1) * df.pct_change()).sum(axis=1)\n",
    "cumulative_returns = (1 + returns).cumprod()\n",
    "\n",
    "# 6. Métricas de desempenho\n",
    "sharpe = np.mean(returns) / np.std(returns) * np.sqrt(252)\n",
    "running_max = cumulative_returns.cummax()\n",
    "drawdown = (cumulative_returns - running_max) / running_max\n",
    "max_drawdown = drawdown.min()\n"
   ]
  },
  {
   "cell_type": "code",
   "execution_count": null,
   "id": "58972989",
   "metadata": {},
   "outputs": [],
   "source": [
    "# 7. Gráficos\n",
    "\n",
    "plt.figure(figsize=(14, 8))\n",
    "\n",
    "# Preço dos ativos\n",
    "plt.subplot(3, 1, 1)\n",
    "plt.plot(df['GLD'], label='GLD')\n",
    "plt.plot(df['IAU'], label='IAU')\n",
    "plt.title('Preços Históricos: GLD e IAU (5 anos)')\n",
    "plt.legend()\n",
    "\n",
    "# Z-score do spread\n",
    "plt.subplot(3, 1, 2)\n",
    "plt.plot(signals['Z-Score'], color='purple')\n",
    "plt.axhline(entry_z, color='red', linestyle='--')\n",
    "plt.axhline(-entry_z, color='green', linestyle='--')\n",
    "plt.axhline(0, color='black', linestyle='-')\n",
    "plt.title('Z-Score do Spread (GLD - IAU)')\n",
    "\n",
    "# Curva de capital\n",
    "plt.subplot(3, 1, 3)\n",
    "plt.plot(cumulative_returns, label='Curva de Capital', color='darkblue')\n",
    "plt.title(f'Rendimento da Estratégia | Sharpe: {sharpe:.2f} | Max Drawdown: {max_drawdown:.2%}')\n",
    "plt.legend()\n",
    "\n",
    "plt.tight_layout()\n",
    "plt.show()"
   ]
  }
 ],
 "metadata": {
  "kernelspec": {
   "display_name": "venv",
   "language": "python",
   "name": "python3"
  },
  "language_info": {
   "codemirror_mode": {
    "name": "ipython",
    "version": 3
   },
   "file_extension": ".py",
   "mimetype": "text/x-python",
   "name": "python",
   "nbconvert_exporter": "python",
   "pygments_lexer": "ipython3",
   "version": "3.12.10"
  }
 },
 "nbformat": 4,
 "nbformat_minor": 5
}
