{
 "cells": [
  {
   "cell_type": "code",
   "execution_count": 1,
   "id": "7f1da6a2",
   "metadata": {},
   "outputs": [],
   "source": [
    "# Pair Trading: KO vs PEP — 5 anos\n",
    "import yfinance as yf\n",
    "import pandas as pd\n",
    "import numpy as np\n",
    "import matplotlib.pyplot as plt\n",
    "from statsmodels.tsa.stattools import coint\n",
    "from scipy.stats import zscore"
   ]
  },
  {
   "cell_type": "code",
   "execution_count": 3,
   "id": "fe51a40e",
   "metadata": {},
   "outputs": [
    {
     "name": "stderr",
     "output_type": "stream",
     "text": [
      "C:\\Users\\Usuário\\AppData\\Local\\Temp\\ipykernel_10072\\2731993309.py:5: FutureWarning: YF.download() has changed argument auto_adjust default to True\n",
      "  df = yf.download(tickers, start=start, end=end)['Close'].dropna()\n",
      "[*********************100%***********************]  2 of 2 completed\n"
     ]
    }
   ],
   "source": [
    "# 1. Baixar os dados (5 anos)\n",
    "tickers = ['KO', 'PEP']\n",
    "start = '2019-07-01'\n",
    "end = '2024-07-01'\n",
    "df = yf.download(tickers, start=start, end=end)['Close'].dropna()"
   ]
  },
  {
   "cell_type": "code",
   "execution_count": 4,
   "id": "60db309f",
   "metadata": {},
   "outputs": [
    {
     "name": "stdout",
     "output_type": "stream",
     "text": [
      "P-valor do teste de cointegração: 0.2878\n",
      "Os ativos não são cointegrados — atenção!\n"
     ]
    }
   ],
   "source": [
    "# 2. Teste de cointegração\n",
    "score, pvalue, _ = coint(df['KO'], df['PEP'])\n",
    "print(f'P-valor do teste de cointegração: {pvalue:.4f}')\n",
    "if pvalue < 0.05:\n",
    "    print(\"Os ativos são cointegrados — válido para Pair Trading\")\n",
    "else:\n",
    "    print(\"Os ativos não são cointegrados — atenção!\")"
   ]
  },
  {
   "cell_type": "code",
   "execution_count": 5,
   "id": "452bbb80",
   "metadata": {},
   "outputs": [],
   "source": [
    "# 3. Cálculo do spread e Z-score\n",
    "spread = df['KO'] - df['PEP']\n",
    "zscore_spread = zscore(spread)\n"
   ]
  },
  {
   "cell_type": "code",
   "execution_count": 6,
   "id": "481ed2ca",
   "metadata": {},
   "outputs": [],
   "source": [
    "\n",
    "# 4. Estratégia de entrada e saída\n",
    "entry_z = 1.0\n",
    "exit_z = 0.0\n",
    "signals = pd.DataFrame(index=df.index)\n",
    "signals['Z-Score'] = zscore_spread\n",
    "signals['Position_KO'] = 0\n",
    "signals['Position_PEP'] = 0"
   ]
  },
  {
   "cell_type": "code",
   "execution_count": 8,
   "id": "d6208385",
   "metadata": {},
   "outputs": [],
   "source": [
    "# Lógica de trade\n",
    "signals.loc[signals['Z-Score'] > entry_z, ['Position_KO', 'Position_PEP']] = [-1, 1]  # Vende KO, compra PEP\n",
    "signals.loc[signals['Z-Score'] < -entry_z, ['Position_KO', 'Position_PEP']] = [1, -1]  # Compra KO, vende PEP\n",
    "signals.loc[abs(signals['Z-Score']) < exit_z, ['Position_KO', 'Position_PEP']] = [0, 0]  # Zera\n",
    "\n",
    "# Preencher as posições ao longo do tempo\n",
    "signals[['Position_KO', 'Position_PEP']] = signals[['Position_KO', 'Position_PEP']].ffill().fillna(0)\n"
   ]
  },
  {
   "cell_type": "code",
   "execution_count": 9,
   "id": "9dd42124",
   "metadata": {},
   "outputs": [
    {
     "name": "stderr",
     "output_type": "stream",
     "text": [
      "C:\\Users\\Usuário\\AppData\\Local\\Temp\\ipykernel_10072\\146003827.py:6: RuntimeWarning: invalid value encountered in scalar divide\n",
      "  sharpe = np.mean(returns) / np.std(returns) * np.sqrt(252)\n"
     ]
    }
   ],
   "source": [
    "# 5. Cálculo dos retornos\n",
    "returns = (signals[['Position_KO', 'Position_PEP']].shift(1) * df.pct_change()).sum(axis=1)\n",
    "cumulative_returns = (1 + returns).cumprod()\n",
    "\n",
    "# 6. Métricas\n",
    "sharpe = np.mean(returns) / np.std(returns) * np.sqrt(252)\n",
    "running_max = cumulative_returns.cummax()\n",
    "drawdown = (cumulative_returns - running_max) / running_max\n",
    "max_dd = drawdown.min()"
   ]
  },
  {
   "cell_type": "code",
   "execution_count": null,
   "id": "58972989",
   "metadata": {},
   "outputs": [],
   "source": [
    "# 7. Gráficos\n",
    "plt.figure(figsize=(14, 8))\n",
    "\n",
    "plt.subplot(3, 1, 1)\n",
    "plt.plot(df['KO'], label='KO (Coca-Cola)')\n",
    "plt.plot(df['PEP'], label='PEP (Pepsi)')\n",
    "plt.legend()\n",
    "plt.title('Preços históricos (5 anos)')\n",
    "\n",
    "plt.subplot(3, 1, 2)\n",
    "plt.plot(zscore_spread, label='Z-Score do Spread', color='purple')\n",
    "plt.axhline(entry_z, color='red', linestyle='--')\n",
    "plt.axhline(-entry_z, color='green', linestyle='--')\n",
    "plt.axhline(0, color='black', linestyle='-')\n",
    "plt.legend()\n",
    "plt.title('Z-Score do Spread KO - PEP')\n",
    "\n",
    "plt.subplot(3, 1, 3)\n",
    "plt.plot(cumulative_returns, label='Curva de Capital', color='darkblue')\n",
    "plt.title(f'Curva de Capital | Sharpe: {sharpe:.2f} | Max Drawdown: {max_dd:.2%}')\n",
    "plt.legend()\n",
    "\n",
    "plt.tight_layout()\n",
    "plt.show()"
   ]
  }
 ],
 "metadata": {
  "kernelspec": {
   "display_name": "venv",
   "language": "python",
   "name": "python3"
  },
  "language_info": {
   "codemirror_mode": {
    "name": "ipython",
    "version": 3
   },
   "file_extension": ".py",
   "mimetype": "text/x-python",
   "name": "python",
   "nbconvert_exporter": "python",
   "pygments_lexer": "ipython3",
   "version": "3.12.10"
  }
 },
 "nbformat": 4,
 "nbformat_minor": 5
}
